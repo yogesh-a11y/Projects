{
  "nbformat": 4,
  "nbformat_minor": 0,
  "metadata": {
    "colab": {
      "provenance": []
    },
    "kernelspec": {
      "name": "python3",
      "display_name": "Python 3"
    },
    "language_info": {
      "name": "python"
    }
  },
  "cells": [
    {
      "cell_type": "code",
      "execution_count": 1,
      "metadata": {
        "colab": {
          "base_uri": "https://localhost:8080/"
        },
        "id": "_W2_e_JAo1Ed",
        "outputId": "8971f8be-4b40-4ed2-b61d-1ca3a8c95923"
      },
      "outputs": [
        {
          "output_type": "stream",
          "name": "stderr",
          "text": [
            "Downloading...\n",
            "From: https://drive.google.com/uc?id=1LIRkum4Lnn7ZdToKjnls-bd0MBjPqWmU\n",
            "To: /content/ads.csv\n",
            "\r  0%|          | 0.00/4.76k [00:00<?, ?B/s]\r100%|██████████| 4.76k/4.76k [00:00<00:00, 24.1MB/s]\n"
          ]
        }
      ],
      "source": [
        "%%bash\n",
        "gdown 1LIRkum4Lnn7ZdToKjnls-bd0MBjPqWmU"
      ]
    },
    {
      "cell_type": "code",
      "source": [
        "import pandas as pd\n",
        "import seaborn as sns\n"
      ],
      "metadata": {
        "id": "1ZVuslJwo8zb"
      },
      "execution_count": 2,
      "outputs": []
    },
    {
      "cell_type": "code",
      "source": [
        "df = pd.read_csv('/content/ads.csv')"
      ],
      "metadata": {
        "id": "iKbdKuNmNT8b"
      },
      "execution_count": 3,
      "outputs": []
    },
    {
      "cell_type": "code",
      "source": [
        "df.head()"
      ],
      "metadata": {
        "id": "BMuu0jdR0TmX",
        "outputId": "3edee78e-8f65-486d-de87-c453fc9627a1",
        "colab": {
          "base_uri": "https://localhost:8080/",
          "height": 206
        }
      },
      "execution_count": 4,
      "outputs": [
        {
          "output_type": "execute_result",
          "data": {
            "text/plain": [
              "   Unnamed: 0     TV  radio  newspaper  sales\n",
              "0           1  230.1   37.8       69.2   22.1\n",
              "1           2   44.5   39.3       45.1   10.4\n",
              "2           3   17.2   45.9       69.3    9.3\n",
              "3           4  151.5   41.3       58.5   18.5\n",
              "4           5  180.8   10.8       58.4   12.9"
            ],
            "text/html": [
              "\n",
              "  <div id=\"df-a1a5dac1-603f-4393-9476-41e5c5897f1d\">\n",
              "    <div class=\"colab-df-container\">\n",
              "      <div>\n",
              "<style scoped>\n",
              "    .dataframe tbody tr th:only-of-type {\n",
              "        vertical-align: middle;\n",
              "    }\n",
              "\n",
              "    .dataframe tbody tr th {\n",
              "        vertical-align: top;\n",
              "    }\n",
              "\n",
              "    .dataframe thead th {\n",
              "        text-align: right;\n",
              "    }\n",
              "</style>\n",
              "<table border=\"1\" class=\"dataframe\">\n",
              "  <thead>\n",
              "    <tr style=\"text-align: right;\">\n",
              "      <th></th>\n",
              "      <th>Unnamed: 0</th>\n",
              "      <th>TV</th>\n",
              "      <th>radio</th>\n",
              "      <th>newspaper</th>\n",
              "      <th>sales</th>\n",
              "    </tr>\n",
              "  </thead>\n",
              "  <tbody>\n",
              "    <tr>\n",
              "      <th>0</th>\n",
              "      <td>1</td>\n",
              "      <td>230.1</td>\n",
              "      <td>37.8</td>\n",
              "      <td>69.2</td>\n",
              "      <td>22.1</td>\n",
              "    </tr>\n",
              "    <tr>\n",
              "      <th>1</th>\n",
              "      <td>2</td>\n",
              "      <td>44.5</td>\n",
              "      <td>39.3</td>\n",
              "      <td>45.1</td>\n",
              "      <td>10.4</td>\n",
              "    </tr>\n",
              "    <tr>\n",
              "      <th>2</th>\n",
              "      <td>3</td>\n",
              "      <td>17.2</td>\n",
              "      <td>45.9</td>\n",
              "      <td>69.3</td>\n",
              "      <td>9.3</td>\n",
              "    </tr>\n",
              "    <tr>\n",
              "      <th>3</th>\n",
              "      <td>4</td>\n",
              "      <td>151.5</td>\n",
              "      <td>41.3</td>\n",
              "      <td>58.5</td>\n",
              "      <td>18.5</td>\n",
              "    </tr>\n",
              "    <tr>\n",
              "      <th>4</th>\n",
              "      <td>5</td>\n",
              "      <td>180.8</td>\n",
              "      <td>10.8</td>\n",
              "      <td>58.4</td>\n",
              "      <td>12.9</td>\n",
              "    </tr>\n",
              "  </tbody>\n",
              "</table>\n",
              "</div>\n",
              "      <button class=\"colab-df-convert\" onclick=\"convertToInteractive('df-a1a5dac1-603f-4393-9476-41e5c5897f1d')\"\n",
              "              title=\"Convert this dataframe to an interactive table.\"\n",
              "              style=\"display:none;\">\n",
              "        \n",
              "  <svg xmlns=\"http://www.w3.org/2000/svg\" height=\"24px\"viewBox=\"0 0 24 24\"\n",
              "       width=\"24px\">\n",
              "    <path d=\"M0 0h24v24H0V0z\" fill=\"none\"/>\n",
              "    <path d=\"M18.56 5.44l.94 2.06.94-2.06 2.06-.94-2.06-.94-.94-2.06-.94 2.06-2.06.94zm-11 1L8.5 8.5l.94-2.06 2.06-.94-2.06-.94L8.5 2.5l-.94 2.06-2.06.94zm10 10l.94 2.06.94-2.06 2.06-.94-2.06-.94-.94-2.06-.94 2.06-2.06.94z\"/><path d=\"M17.41 7.96l-1.37-1.37c-.4-.4-.92-.59-1.43-.59-.52 0-1.04.2-1.43.59L10.3 9.45l-7.72 7.72c-.78.78-.78 2.05 0 2.83L4 21.41c.39.39.9.59 1.41.59.51 0 1.02-.2 1.41-.59l7.78-7.78 2.81-2.81c.8-.78.8-2.07 0-2.86zM5.41 20L4 18.59l7.72-7.72 1.47 1.35L5.41 20z\"/>\n",
              "  </svg>\n",
              "      </button>\n",
              "      \n",
              "  <style>\n",
              "    .colab-df-container {\n",
              "      display:flex;\n",
              "      flex-wrap:wrap;\n",
              "      gap: 12px;\n",
              "    }\n",
              "\n",
              "    .colab-df-convert {\n",
              "      background-color: #E8F0FE;\n",
              "      border: none;\n",
              "      border-radius: 50%;\n",
              "      cursor: pointer;\n",
              "      display: none;\n",
              "      fill: #1967D2;\n",
              "      height: 32px;\n",
              "      padding: 0 0 0 0;\n",
              "      width: 32px;\n",
              "    }\n",
              "\n",
              "    .colab-df-convert:hover {\n",
              "      background-color: #E2EBFA;\n",
              "      box-shadow: 0px 1px 2px rgba(60, 64, 67, 0.3), 0px 1px 3px 1px rgba(60, 64, 67, 0.15);\n",
              "      fill: #174EA6;\n",
              "    }\n",
              "\n",
              "    [theme=dark] .colab-df-convert {\n",
              "      background-color: #3B4455;\n",
              "      fill: #D2E3FC;\n",
              "    }\n",
              "\n",
              "    [theme=dark] .colab-df-convert:hover {\n",
              "      background-color: #434B5C;\n",
              "      box-shadow: 0px 1px 3px 1px rgba(0, 0, 0, 0.15);\n",
              "      filter: drop-shadow(0px 1px 2px rgba(0, 0, 0, 0.3));\n",
              "      fill: #FFFFFF;\n",
              "    }\n",
              "  </style>\n",
              "\n",
              "      <script>\n",
              "        const buttonEl =\n",
              "          document.querySelector('#df-a1a5dac1-603f-4393-9476-41e5c5897f1d button.colab-df-convert');\n",
              "        buttonEl.style.display =\n",
              "          google.colab.kernel.accessAllowed ? 'block' : 'none';\n",
              "\n",
              "        async function convertToInteractive(key) {\n",
              "          const element = document.querySelector('#df-a1a5dac1-603f-4393-9476-41e5c5897f1d');\n",
              "          const dataTable =\n",
              "            await google.colab.kernel.invokeFunction('convertToInteractive',\n",
              "                                                     [key], {});\n",
              "          if (!dataTable) return;\n",
              "\n",
              "          const docLinkHtml = 'Like what you see? Visit the ' +\n",
              "            '<a target=\"_blank\" href=https://colab.research.google.com/notebooks/data_table.ipynb>data table notebook</a>'\n",
              "            + ' to learn more about interactive tables.';\n",
              "          element.innerHTML = '';\n",
              "          dataTable['output_type'] = 'display_data';\n",
              "          await google.colab.output.renderOutput(dataTable, element);\n",
              "          const docLink = document.createElement('div');\n",
              "          docLink.innerHTML = docLinkHtml;\n",
              "          element.appendChild(docLink);\n",
              "        }\n",
              "      </script>\n",
              "    </div>\n",
              "  </div>\n",
              "  "
            ]
          },
          "metadata": {},
          "execution_count": 4
        }
      ]
    },
    {
      "cell_type": "code",
      "source": [
        "# Checking shape of the dataset\n",
        "\n",
        "rows, columns = df.shape\n",
        "print(f'There are {rows} rows and {columns} in above dataset.')\n"
      ],
      "metadata": {
        "id": "ibnnTSrS0Z-u",
        "outputId": "7651bd6a-6efc-49f4-b0eb-608af948e589",
        "colab": {
          "base_uri": "https://localhost:8080/"
        }
      },
      "execution_count": 5,
      "outputs": [
        {
          "output_type": "stream",
          "name": "stdout",
          "text": [
            "There are 200 rows and 5 in above dataset.\n"
          ]
        }
      ]
    },
    {
      "cell_type": "code",
      "source": [
        "# Checking correlation\n",
        "df.corr().style.background_gradient(cmap = 'YlGnBu')"
      ],
      "metadata": {
        "id": "dVrwkVTg0l-v",
        "outputId": "2cb15424-c5e9-4d6c-a798-0e3e5dfc1662",
        "colab": {
          "base_uri": "https://localhost:8080/",
          "height": 206
        }
      },
      "execution_count": 6,
      "outputs": [
        {
          "output_type": "execute_result",
          "data": {
            "text/plain": [
              "<pandas.io.formats.style.Styler at 0x7f8aaa8a9060>"
            ],
            "text/html": [
              "<style type=\"text/css\">\n",
              "#T_94e77_row0_col0, #T_94e77_row1_col1, #T_94e77_row2_col2, #T_94e77_row3_col3, #T_94e77_row4_col4 {\n",
              "  background-color: #081d58;\n",
              "  color: #f1f1f1;\n",
              "}\n",
              "#T_94e77_row0_col1, #T_94e77_row0_col2, #T_94e77_row0_col3, #T_94e77_row0_col4, #T_94e77_row3_col0 {\n",
              "  background-color: #ffffd9;\n",
              "  color: #000000;\n",
              "}\n",
              "#T_94e77_row1_col0, #T_94e77_row1_col2 {\n",
              "  background-color: #e6f5b2;\n",
              "  color: #000000;\n",
              "}\n",
              "#T_94e77_row1_col3 {\n",
              "  background-color: #dcf1b2;\n",
              "  color: #000000;\n",
              "}\n",
              "#T_94e77_row1_col4 {\n",
              "  background-color: #2350a1;\n",
              "  color: #f1f1f1;\n",
              "}\n",
              "#T_94e77_row2_col0, #T_94e77_row2_col1 {\n",
              "  background-color: #fafdce;\n",
              "  color: #000000;\n",
              "}\n",
              "#T_94e77_row2_col3 {\n",
              "  background-color: #5fc1c0;\n",
              "  color: #000000;\n",
              "}\n",
              "#T_94e77_row2_col4 {\n",
              "  background-color: #259ac1;\n",
              "  color: #f1f1f1;\n",
              "}\n",
              "#T_94e77_row3_col1 {\n",
              "  background-color: #f9fdcc;\n",
              "  color: #000000;\n",
              "}\n",
              "#T_94e77_row3_col2 {\n",
              "  background-color: #69c5be;\n",
              "  color: #000000;\n",
              "}\n",
              "#T_94e77_row3_col4 {\n",
              "  background-color: #bde5b5;\n",
              "  color: #000000;\n",
              "}\n",
              "#T_94e77_row4_col0 {\n",
              "  background-color: #f3fabd;\n",
              "  color: #000000;\n",
              "}\n",
              "#T_94e77_row4_col1 {\n",
              "  background-color: #2354a3;\n",
              "  color: #f1f1f1;\n",
              "}\n",
              "#T_94e77_row4_col2 {\n",
              "  background-color: #1f93c0;\n",
              "  color: #f1f1f1;\n",
              "}\n",
              "#T_94e77_row4_col3 {\n",
              "  background-color: #99d7b8;\n",
              "  color: #000000;\n",
              "}\n",
              "</style>\n",
              "<table id=\"T_94e77\" class=\"dataframe\">\n",
              "  <thead>\n",
              "    <tr>\n",
              "      <th class=\"blank level0\" >&nbsp;</th>\n",
              "      <th id=\"T_94e77_level0_col0\" class=\"col_heading level0 col0\" >Unnamed: 0</th>\n",
              "      <th id=\"T_94e77_level0_col1\" class=\"col_heading level0 col1\" >TV</th>\n",
              "      <th id=\"T_94e77_level0_col2\" class=\"col_heading level0 col2\" >radio</th>\n",
              "      <th id=\"T_94e77_level0_col3\" class=\"col_heading level0 col3\" >newspaper</th>\n",
              "      <th id=\"T_94e77_level0_col4\" class=\"col_heading level0 col4\" >sales</th>\n",
              "    </tr>\n",
              "  </thead>\n",
              "  <tbody>\n",
              "    <tr>\n",
              "      <th id=\"T_94e77_level0_row0\" class=\"row_heading level0 row0\" >Unnamed: 0</th>\n",
              "      <td id=\"T_94e77_row0_col0\" class=\"data row0 col0\" >1.000000</td>\n",
              "      <td id=\"T_94e77_row0_col1\" class=\"data row0 col1\" >0.017715</td>\n",
              "      <td id=\"T_94e77_row0_col2\" class=\"data row0 col2\" >-0.110680</td>\n",
              "      <td id=\"T_94e77_row0_col3\" class=\"data row0 col3\" >-0.154944</td>\n",
              "      <td id=\"T_94e77_row0_col4\" class=\"data row0 col4\" >-0.051616</td>\n",
              "    </tr>\n",
              "    <tr>\n",
              "      <th id=\"T_94e77_level0_row1\" class=\"row_heading level0 row1\" >TV</th>\n",
              "      <td id=\"T_94e77_row1_col0\" class=\"data row1 col0\" >0.017715</td>\n",
              "      <td id=\"T_94e77_row1_col1\" class=\"data row1 col1\" >1.000000</td>\n",
              "      <td id=\"T_94e77_row1_col2\" class=\"data row1 col2\" >0.054809</td>\n",
              "      <td id=\"T_94e77_row1_col3\" class=\"data row1 col3\" >0.056648</td>\n",
              "      <td id=\"T_94e77_row1_col4\" class=\"data row1 col4\" >0.782224</td>\n",
              "    </tr>\n",
              "    <tr>\n",
              "      <th id=\"T_94e77_level0_row2\" class=\"row_heading level0 row2\" >radio</th>\n",
              "      <td id=\"T_94e77_row2_col0\" class=\"data row2 col0\" >-0.110680</td>\n",
              "      <td id=\"T_94e77_row2_col1\" class=\"data row2 col1\" >0.054809</td>\n",
              "      <td id=\"T_94e77_row2_col2\" class=\"data row2 col2\" >1.000000</td>\n",
              "      <td id=\"T_94e77_row2_col3\" class=\"data row2 col3\" >0.354104</td>\n",
              "      <td id=\"T_94e77_row2_col4\" class=\"data row2 col4\" >0.576223</td>\n",
              "    </tr>\n",
              "    <tr>\n",
              "      <th id=\"T_94e77_level0_row3\" class=\"row_heading level0 row3\" >newspaper</th>\n",
              "      <td id=\"T_94e77_row3_col0\" class=\"data row3 col0\" >-0.154944</td>\n",
              "      <td id=\"T_94e77_row3_col1\" class=\"data row3 col1\" >0.056648</td>\n",
              "      <td id=\"T_94e77_row3_col2\" class=\"data row3 col2\" >0.354104</td>\n",
              "      <td id=\"T_94e77_row3_col3\" class=\"data row3 col3\" >1.000000</td>\n",
              "      <td id=\"T_94e77_row3_col4\" class=\"data row3 col4\" >0.228299</td>\n",
              "    </tr>\n",
              "    <tr>\n",
              "      <th id=\"T_94e77_level0_row4\" class=\"row_heading level0 row4\" >sales</th>\n",
              "      <td id=\"T_94e77_row4_col0\" class=\"data row4 col0\" >-0.051616</td>\n",
              "      <td id=\"T_94e77_row4_col1\" class=\"data row4 col1\" >0.782224</td>\n",
              "      <td id=\"T_94e77_row4_col2\" class=\"data row4 col2\" >0.576223</td>\n",
              "      <td id=\"T_94e77_row4_col3\" class=\"data row4 col3\" >0.228299</td>\n",
              "      <td id=\"T_94e77_row4_col4\" class=\"data row4 col4\" >1.000000</td>\n",
              "    </tr>\n",
              "  </tbody>\n",
              "</table>\n"
            ]
          },
          "metadata": {},
          "execution_count": 6
        }
      ]
    },
    {
      "cell_type": "code",
      "source": [
        "sns.heatmap(df.corr(), annot= True)"
      ],
      "metadata": {
        "id": "qV0QpqfH1cdM",
        "outputId": "3e20440c-322a-4da0-e551-4ff543e82650",
        "colab": {
          "base_uri": "https://localhost:8080/",
          "height": 453
        }
      },
      "execution_count": 7,
      "outputs": [
        {
          "output_type": "execute_result",
          "data": {
            "text/plain": [
              "<Axes: >"
            ]
          },
          "metadata": {},
          "execution_count": 7
        },
        {
          "output_type": "display_data",
          "data": {
            "text/plain": [
              "<Figure size 640x480 with 2 Axes>"
            ],
            "image/png": "[encoded data removed]"
          },
          "metadata": {}
        }
      ]
    },
    {
      "cell_type": "markdown",
      "source": [
        "# Checking for null values\n"
      ],
      "metadata": {
        "id": "L8o-dTGMExZQ"
      }
    },
    {
      "cell_type": "code",
      "source": [
        "df.isna().sum()"
      ],
      "metadata": {
        "id": "9WPM_zzJ1oba",
        "outputId": "b486c406-2502-4cea-a7cf-05ddba90fcca",
        "colab": {
          "base_uri": "https://localhost:8080/"
        }
      },
      "execution_count": 8,
      "outputs": [
        {
          "output_type": "execute_result",
          "data": {
            "text/plain": [
              "Unnamed: 0    0\n",
              "TV            0\n",
              "radio         0\n",
              "newspaper     0\n",
              "sales         0\n",
              "dtype: int64"
            ]
          },
          "metadata": {},
          "execution_count": 8
        }
      ]
    },
    {
      "cell_type": "markdown",
      "source": [
        "# Feature Selection and Feature engineering"
      ],
      "metadata": {
        "id": "oOwyLw8vFf06"
      }
    },
    {
      "cell_type": "code",
      "source": [
        "# Linear Regression\n",
        "\n",
        "from sklearn.model_selection import train_test_split\n",
        "X = df.iloc[:,:-1]\n",
        "y = df.sales\n",
        "\n",
        "X_train, X_test, y_train, y_test = train_test_split(X, y, test_size = 0.2, random_state = 4)"
      ],
      "metadata": {
        "id": "VyIUnK6B2SiQ"
      },
      "execution_count": 9,
      "outputs": []
    },
    {
      "cell_type": "code",
      "source": [
        "X_train.shape, X_test.shape"
      ],
      "metadata": {
        "colab": {
          "base_uri": "https://localhost:8080/"
        },
        "id": "jebekbdLR3j8",
        "outputId": "c8955978-6e02-4bdf-f566-e057757ef327"
      },
      "execution_count": 17,
      "outputs": [
        {
          "output_type": "execute_result",
          "data": {
            "text/plain": [
              "((160, 4), (40, 4))"
            ]
          },
          "metadata": {},
          "execution_count": 17
        }
      ]
    },
    {
      "cell_type": "code",
      "source": [
        "y_train.shape, y_test.shape"
      ],
      "metadata": {
        "colab": {
          "base_uri": "https://localhost:8080/"
        },
        "id": "yyLPC37akjJ9",
        "outputId": "a7a94f7c-48d9-412d-8a30-d7b8fa0315b6"
      },
      "execution_count": 18,
      "outputs": [
        {
          "output_type": "execute_result",
          "data": {
            "text/plain": [
              "((160,), (40,))"
            ]
          },
          "metadata": {},
          "execution_count": 18
        }
      ]
    },
    {
      "cell_type": "markdown",
      "source": [
        "# Fitting model using Linear Regression"
      ],
      "metadata": {
        "id": "xcImLi1vFq3_"
      }
    },
    {
      "cell_type": "code",
      "source": [
        "from sklearn.linear_model import LinearRegression\n",
        "\n",
        "model = LinearRegression()\n",
        "model.fit(X_train, y_train)\n"
      ],
      "metadata": {
        "colab": {
          "base_uri": "https://localhost:8080/",
          "height": 74
        },
        "id": "fQj4801-3rc4",
        "outputId": "a6a275dd-f4c0-4445-dabc-1a187c56798b"
      },
      "execution_count": 10,
      "outputs": [
        {
          "output_type": "execute_result",
          "data": {
            "text/plain": [
              "LinearRegression()"
            ],
            "text/html": [
              "<style>#sk-container-id-1 {color: black;background-color: white;}#sk-container-id-1 pre{padding: 0;}#sk-container-id-1 div.sk-toggleable {background-color: white;}#sk-container-id-1 label.sk-toggleable__label {cursor: pointer;display: block;width: 100%;margin-bottom: 0;padding: 0.3em;box-sizing: border-box;text-align: center;}#sk-container-id-1 label.sk-toggleable__label-arrow:before {content: \"▸\";float: left;margin-right: 0.25em;color: #696969;}#sk-container-id-1 label.sk-toggleable__label-arrow:hover:before {color: black;}#sk-container-id-1 div.sk-estimator:hover label.sk-toggleable__label-arrow:before {color: black;}#sk-container-id-1 div.sk-toggleable__content {max-height: 0;max-width: 0;overflow: hidden;text-align: left;background-color: #f0f8ff;}#sk-container-id-1 div.sk-toggleable__content pre {margin: 0.2em;color: black;border-radius: 0.25em;background-color: #f0f8ff;}#sk-container-id-1 input.sk-toggleable__control:checked~div.sk-toggleable__content {max-height: 200px;max-width: 100%;overflow: auto;}#sk-container-id-1 input.sk-toggleable__control:checked~label.sk-toggleable__label-arrow:before {content: \"▾\";}#sk-container-id-1 div.sk-estimator input.sk-toggleable__control:checked~label.sk-toggleable__label {background-color: #d4ebff;}#sk-container-id-1 div.sk-label input.sk-toggleable__control:checked~label.sk-toggleable__label {background-color: #d4ebff;}#sk-container-id-1 input.sk-hidden--visually {border: 0;clip: rect(1px 1px 1px 1px);clip: rect(1px, 1px, 1px, 1px);height: 1px;margin: -1px;overflow: hidden;padding: 0;position: absolute;width: 1px;}#sk-container-id-1 div.sk-estimator {font-family: monospace;background-color: #f0f8ff;border: 1px dotted black;border-radius: 0.25em;box-sizing: border-box;margin-bottom: 0.5em;}#sk-container-id-1 div.sk-estimator:hover {background-color: #d4ebff;}#sk-container-id-1 div.sk-parallel-item::after {content: \"\";width: 100%;border-bottom: 1px solid gray;flex-grow: 1;}#sk-container-id-1 div.sk-label:hover label.sk-toggleable__label {background-color: #d4ebff;}#sk-container-id-1 div.sk-serial::before {content: \"\";position: absolute;border-left: 1px solid gray;box-sizing: border-box;top: 0;bottom: 0;left: 50%;z-index: 0;}#sk-container-id-1 div.sk-serial {display: flex;flex-direction: column;align-items: center;background-color: white;padding-right: 0.2em;padding-left: 0.2em;position: relative;}#sk-container-id-1 div.sk-item {position: relative;z-index: 1;}#sk-container-id-1 div.sk-parallel {display: flex;align-items: stretch;justify-content: center;background-color: white;position: relative;}#sk-container-id-1 div.sk-item::before, #sk-container-id-1 div.sk-parallel-item::before {content: \"\";position: absolute;border-left: 1px solid gray;box-sizing: border-box;top: 0;bottom: 0;left: 50%;z-index: -1;}#sk-container-id-1 div.sk-parallel-item {display: flex;flex-direction: column;z-index: 1;position: relative;background-color: white;}#sk-container-id-1 div.sk-parallel-item:first-child::after {align-self: flex-end;width: 50%;}#sk-container-id-1 div.sk-parallel-item:last-child::after {align-self: flex-start;width: 50%;}#sk-container-id-1 div.sk-parallel-item:only-child::after {width: 0;}#sk-container-id-1 div.sk-dashed-wrapped {border: 1px dashed gray;margin: 0 0.4em 0.5em 0.4em;box-sizing: border-box;padding-bottom: 0.4em;background-color: white;}#sk-container-id-1 div.sk-label label {font-family: monospace;font-weight: bold;display: inline-block;line-height: 1.2em;}#sk-container-id-1 div.sk-label-container {text-align: center;}#sk-container-id-1 div.sk-container {/* jupyter's `normalize.less` sets `[hidden] { display: none; }` but bootstrap.min.css set `[hidden] { display: none !important; }` so we also need the `!important` here to be able to override the default hidden behavior on the sphinx rendered scikit-learn.org. See: https://github.com/scikit-learn/scikit-learn/issues/21755 */display: inline-block !important;position: relative;}#sk-container-id-1 div.sk-text-repr-fallback {display: none;}</style><div id=\"sk-container-id-1\" class=\"sk-top-container\"><div class=\"sk-text-repr-fallback\"><pre>LinearRegression()</pre><b>In a Jupyter environment, please rerun this cell to show the HTML representation or trust the notebook. <br />On GitHub, the HTML representation is unable to render, please try loading this page with nbviewer.org.</b></div><div class=\"sk-container\" hidden><div class=\"sk-item\"><div class=\"sk-estimator sk-toggleable\"><input class=\"sk-toggleable__control sk-hidden--visually\" id=\"sk-estimator-id-1\" type=\"checkbox\" checked><label for=\"sk-estimator-id-1\" class=\"sk-toggleable__label sk-toggleable__label-arrow\">LinearRegression</label><div class=\"sk-toggleable__content\"><pre>LinearRegression()</pre></div></div></div></div></div>"
            ]
          },
          "metadata": {},
          "execution_count": 10
        }
      ]
    },
    {
      "cell_type": "code",
      "source": [
        "y_pred = model.predict(X_test)"
      ],
      "metadata": {
        "id": "S8IIC6lL368z"
      },
      "execution_count": 11,
      "outputs": []
    },
    {
      "cell_type": "code",
      "source": [
        "model.score(X_test, y_test)"
      ],
      "metadata": {
        "colab": {
          "base_uri": "https://localhost:8080/"
        },
        "id": "T9D6m4yM4QUP",
        "outputId": "e2caf138-ad89-4392-b640-7571293b1c96"
      },
      "execution_count": 12,
      "outputs": [
        {
          "output_type": "execute_result",
          "data": {
            "text/plain": [
              "0.9084934434517352"
            ]
          },
          "metadata": {},
          "execution_count": 12
        }
      ]
    },
    {
      "cell_type": "markdown",
      "source": [
        "# Evaluation of above model"
      ],
      "metadata": {
        "id": "2AGwEqGyFxFB"
      }
    },
    {
      "cell_type": "code",
      "source": [
        "from sklearn.metrics import mean_squared_error, mean_absolute_error, r2_score\n",
        "\n",
        "MSE = mean_squared_error(y_true = y_test, y_pred = y_pred)\n",
        "MEA = mean_absolute_error(y_true = y_test, y_pred = y_pred)\n",
        "R2 = r2_score(y_test, y_pred)"
      ],
      "metadata": {
        "id": "q7jCsxri4SXY"
      },
      "execution_count": 13,
      "outputs": []
    },
    {
      "cell_type": "code",
      "source": [
        "print(f'Here mean squared error is {MSE} and mean absolute error is {MEA}')\n",
        "print(f'R2 score is {R2}')"
      ],
      "metadata": {
        "id": "EzmFY7yP46_3",
        "outputId": "81b84807-502a-4487-d3c1-bdf1d3537247",
        "colab": {
          "base_uri": "https://localhost:8080/"
        }
      },
      "execution_count": 15,
      "outputs": [
        {
          "output_type": "stream",
          "name": "stdout",
          "text": [
            "Here mean squared error is 2.2191889855255753 and mean absolute error is 1.2122953042668594\n",
            "R2 score is 0.9084934434517352\n"
          ]
        }
      ]
    }
  ]
}