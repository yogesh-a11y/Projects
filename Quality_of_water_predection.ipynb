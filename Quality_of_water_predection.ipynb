{
  "cells": [
    {
      "cell_type": "code",
      "execution_count": 1,
      "metadata": {
        "id": "ykBjMzSsljY2"
      },
      "outputs": [],
      "source": [
        "import pandas as pd\n",
        "import numpy as np\n",
        "import seaborn as sns\n",
        "import matplotlib.pyplot as plt"
      ]
    },
    {
      "cell_type": "code",
      "execution_count": 2,
      "metadata": {
        "id": "YPD2IEAhl7m0"
      },
      "outputs": [],
      "source": [
        "df = pd.read_csv('/content/water_potability.csv')"
      ]
    },
    {
      "cell_type": "code",
      "execution_count": 3,
      "metadata": {
        "colab": {
          "base_uri": "https://localhost:8080/",
          "height": 270
        },
        "id": "fkiKxciCmGzC",
        "outputId": "cc836036-73cb-4d47-f70a-9ef13184d07d"
      },
      "outputs": [
        {
          "output_type": "execute_result",
          "data": {
            "text/plain": [
              "         ph    Hardness        Solids  Chloramines     Sulfate  Conductivity  \\\n",
              "0       NaN  204.890455  20791.318981     7.300212  368.516441    564.308654   \n",
              "1  3.716080  129.422921  18630.057858     6.635246         NaN    592.885359   \n",
              "2  8.099124  224.236259  19909.541732     9.275884         NaN    418.606213   \n",
              "3  8.316766  214.373394  22018.417441     8.059332  356.886136    363.266516   \n",
              "4  9.092223  181.101509  17978.986339     6.546600  310.135738    398.410813   \n",
              "\n",
              "   Organic_carbon  Trihalomethanes  Turbidity  Potability  \n",
              "0       10.379783        86.990970   2.963135           0  \n",
              "1       15.180013        56.329076   4.500656           0  \n",
              "2       16.868637        66.420093   3.055934           0  \n",
              "3       18.436524       100.341674   4.628771           0  \n",
              "4       11.558279        31.997993   4.075075           0  "
            ],
            "text/html": [
              "\n",
              "  <div id=\"df-659cd37f-1d6b-4144-aa37-dac015e1f38d\">\n",
              "    <div class=\"colab-df-container\">\n",
              "      <div>\n",
              "<style scoped>\n",
              "    .dataframe tbody tr th:only-of-type {\n",
              "        vertical-align: middle;\n",
              "    }\n",
              "\n",
              "    .dataframe tbody tr th {\n",
              "        vertical-align: top;\n",
              "    }\n",
              "\n",
              "    .dataframe thead th {\n",
              "        text-align: right;\n",
              "    }\n",
              "</style>\n",
              "<table border=\"1\" class=\"dataframe\">\n",
              "  <thead>\n",
              "    <tr style=\"text-align: right;\">\n",
              "      <th></th>\n",
              "      <th>ph</th>\n",
              "      <th>Hardness</th>\n",
              "      <th>Solids</th>\n",
              "      <th>Chloramines</th>\n",
              "      <th>Sulfate</th>\n",
              "      <th>Conductivity</th>\n",
              "      <th>Organic_carbon</th>\n",
              "      <th>Trihalomethanes</th>\n",
              "      <th>Turbidity</th>\n",
              "      <th>Potability</th>\n",
              "    </tr>\n",
              "  </thead>\n",
              "  <tbody>\n",
              "    <tr>\n",
              "      <th>0</th>\n",
              "      <td>NaN</td>\n",
              "      <td>204.890455</td>\n",
              "      <td>20791.318981</td>\n",
              "      <td>7.300212</td>\n",
              "      <td>368.516441</td>\n",
              "      <td>564.308654</td>\n",
              "      <td>10.379783</td>\n",
              "      <td>86.990970</td>\n",
              "      <td>2.963135</td>\n",
              "      <td>0</td>\n",
              "    </tr>\n",
              "    <tr>\n",
              "      <th>1</th>\n",
              "      <td>3.716080</td>\n",
              "      <td>129.422921</td>\n",
              "      <td>18630.057858</td>\n",
              "      <td>6.635246</td>\n",
              "      <td>NaN</td>\n",
              "      <td>592.885359</td>\n",
              "      <td>15.180013</td>\n",
              "      <td>56.329076</td>\n",
              "      <td>4.500656</td>\n",
              "      <td>0</td>\n",
              "    </tr>\n",
              "    <tr>\n",
              "      <th>2</th>\n",
              "      <td>8.099124</td>\n",
              "      <td>224.236259</td>\n",
              "      <td>19909.541732</td>\n",
              "      <td>9.275884</td>\n",
              "      <td>NaN</td>\n",
              "      <td>418.606213</td>\n",
              "      <td>16.868637</td>\n",
              "      <td>66.420093</td>\n",
              "      <td>3.055934</td>\n",
              "      <td>0</td>\n",
              "    </tr>\n",
              "    <tr>\n",
              "      <th>3</th>\n",
              "      <td>8.316766</td>\n",
              "      <td>214.373394</td>\n",
              "      <td>22018.417441</td>\n",
              "      <td>8.059332</td>\n",
              "      <td>356.886136</td>\n",
              "      <td>363.266516</td>\n",
              "      <td>18.436524</td>\n",
              "      <td>100.341674</td>\n",
              "      <td>4.628771</td>\n",
              "      <td>0</td>\n",
              "    </tr>\n",
              "    <tr>\n",
              "      <th>4</th>\n",
              "      <td>9.092223</td>\n",
              "      <td>181.101509</td>\n",
              "      <td>17978.986339</td>\n",
              "      <td>6.546600</td>\n",
              "      <td>310.135738</td>\n",
              "      <td>398.410813</td>\n",
              "      <td>11.558279</td>\n",
              "      <td>31.997993</td>\n",
              "      <td>4.075075</td>\n",
              "      <td>0</td>\n",
              "    </tr>\n",
              "  </tbody>\n",
              "</table>\n",
              "</div>\n",
              "      <button class=\"colab-df-convert\" onclick=\"convertToInteractive('df-659cd37f-1d6b-4144-aa37-dac015e1f38d')\"\n",
              "              title=\"Convert this dataframe to an interactive table.\"\n",
              "              style=\"display:none;\">\n",
              "        \n",
              "  <svg xmlns=\"http://www.w3.org/2000/svg\" height=\"24px\"viewBox=\"0 0 24 24\"\n",
              "       width=\"24px\">\n",
              "    <path d=\"M0 0h24v24H0V0z\" fill=\"none\"/>\n",
              "    <path d=\"M18.56 5.44l.94 2.06.94-2.06 2.06-.94-2.06-.94-.94-2.06-.94 2.06-2.06.94zm-11 1L8.5 8.5l.94-2.06 2.06-.94-2.06-.94L8.5 2.5l-.94 2.06-2.06.94zm10 10l.94 2.06.94-2.06 2.06-.94-2.06-.94-.94-2.06-.94 2.06-2.06.94z\"/><path d=\"M17.41 7.96l-1.37-1.37c-.4-.4-.92-.59-1.43-.59-.52 0-1.04.2-1.43.59L10.3 9.45l-7.72 7.72c-.78.78-.78 2.05 0 2.83L4 21.41c.39.39.9.59 1.41.59.51 0 1.02-.2 1.41-.59l7.78-7.78 2.81-2.81c.8-.78.8-2.07 0-2.86zM5.41 20L4 18.59l7.72-7.72 1.47 1.35L5.41 20z\"/>\n",
              "  </svg>\n",
              "      </button>\n",
              "      \n",
              "  <style>\n",
              "    .colab-df-container {\n",
              "      display:flex;\n",
              "      flex-wrap:wrap;\n",
              "      gap: 12px;\n",
              "    }\n",
              "\n",
              "    .colab-df-convert {\n",
              "      background-color: #E8F0FE;\n",
              "      border: none;\n",
              "      border-radius: 50%;\n",
              "      cursor: pointer;\n",
              "      display: none;\n",
              "      fill: #1967D2;\n",
              "      height: 32px;\n",
              "      padding: 0 0 0 0;\n",
              "      width: 32px;\n",
              "    }\n",
              "\n",
              "    .colab-df-convert:hover {\n",
              "      background-color: #E2EBFA;\n",
              "      box-shadow: 0px 1px 2px rgba(60, 64, 67, 0.3), 0px 1px 3px 1px rgba(60, 64, 67, 0.15);\n",
              "      fill: #174EA6;\n",
              "    }\n",
              "\n",
              "    [theme=dark] .colab-df-convert {\n",
              "      background-color: #3B4455;\n",
              "      fill: #D2E3FC;\n",
              "    }\n",
              "\n",
              "    [theme=dark] .colab-df-convert:hover {\n",
              "      background-color: #434B5C;\n",
              "      box-shadow: 0px 1px 3px 1px rgba(0, 0, 0, 0.15);\n",
              "      filter: drop-shadow(0px 1px 2px rgba(0, 0, 0, 0.3));\n",
              "      fill: #FFFFFF;\n",
              "    }\n",
              "  </style>\n",
              "\n",
              "      <script>\n",
              "        const buttonEl =\n",
              "          document.querySelector('#df-659cd37f-1d6b-4144-aa37-dac015e1f38d button.colab-df-convert');\n",
              "        buttonEl.style.display =\n",
              "          google.colab.kernel.accessAllowed ? 'block' : 'none';\n",
              "\n",
              "        async function convertToInteractive(key) {\n",
              "          const element = document.querySelector('#df-659cd37f-1d6b-4144-aa37-dac015e1f38d');\n",
              "          const dataTable =\n",
              "            await google.colab.kernel.invokeFunction('convertToInteractive',\n",
              "                                                     [key], {});\n",
              "          if (!dataTable) return;\n",
              "\n",
              "          const docLinkHtml = 'Like what you see? Visit the ' +\n",
              "            '<a target=\"_blank\" href=https://colab.research.google.com/notebooks/data_table.ipynb>data table notebook</a>'\n",
              "            + ' to learn more about interactive tables.';\n",
              "          element.innerHTML = '';\n",
              "          dataTable['output_type'] = 'display_data';\n",
              "          await google.colab.output.renderOutput(dataTable, element);\n",
              "          const docLink = document.createElement('div');\n",
              "          docLink.innerHTML = docLinkHtml;\n",
              "          element.appendChild(docLink);\n",
              "        }\n",
              "      </script>\n",
              "    </div>\n",
              "  </div>\n",
              "  "
            ]
          },
          "metadata": {},
          "execution_count": 3
        }
      ],
      "source": [
        "df.head()"
      ]
    },
    {
      "cell_type": "code",
      "execution_count": 4,
      "metadata": {
        "colab": {
          "base_uri": "https://localhost:8080/"
        },
        "id": "qWG5xNiNGjVU",
        "outputId": "3f787af8-3d3b-4d1d-b39b-b4ddb52f9218"
      },
      "outputs": [
        {
          "output_type": "execute_result",
          "data": {
            "text/plain": [
              "ph                 float64\n",
              "Hardness           float64\n",
              "Solids             float64\n",
              "Chloramines        float64\n",
              "Sulfate            float64\n",
              "Conductivity       float64\n",
              "Organic_carbon     float64\n",
              "Trihalomethanes    float64\n",
              "Turbidity          float64\n",
              "Potability           int64\n",
              "dtype: object"
            ]
          },
          "metadata": {},
          "execution_count": 4
        }
      ],
      "source": [
        "# Checking data types\n",
        "df.dtypes"
      ]
    },
    {
      "cell_type": "markdown",
      "metadata": {
        "id": "xiNhNB9dGrlG"
      },
      "source": [
        "# Information about dataset"
      ]
    },
    {
      "cell_type": "code",
      "execution_count": 5,
      "metadata": {
        "colab": {
          "base_uri": "https://localhost:8080/"
        },
        "id": "mdiwsBH7mIMv",
        "outputId": "631d2064-9130-4abb-f1d9-8568787516d1"
      },
      "outputs": [
        {
          "output_type": "stream",
          "name": "stdout",
          "text": [
            "<class 'pandas.core.frame.DataFrame'>\n",
            "RangeIndex: 3276 entries, 0 to 3275\n",
            "Data columns (total 10 columns):\n",
            " #   Column           Non-Null Count  Dtype  \n",
            "---  ------           --------------  -----  \n",
            " 0   ph               2785 non-null   float64\n",
            " 1   Hardness         3276 non-null   float64\n",
            " 2   Solids           3276 non-null   float64\n",
            " 3   Chloramines      3276 non-null   float64\n",
            " 4   Sulfate          2495 non-null   float64\n",
            " 5   Conductivity     3276 non-null   float64\n",
            " 6   Organic_carbon   3276 non-null   float64\n",
            " 7   Trihalomethanes  3114 non-null   float64\n",
            " 8   Turbidity        3276 non-null   float64\n",
            " 9   Potability       3276 non-null   int64  \n",
            "dtypes: float64(9), int64(1)\n",
            "memory usage: 256.1 KB\n"
          ]
        }
      ],
      "source": [
        "df.info()"
      ]
    },
    {
      "cell_type": "markdown",
      "metadata": {
        "id": "i3D7WNrJGvq5"
      },
      "source": [
        ".info() shows that there are total 3276 rows from indexing 0 to 3275. Above information shows that columns like ph, Sulfate and Trihalomethanes are missing data.\n"
      ]
    },
    {
      "cell_type": "code",
      "execution_count": 6,
      "metadata": {
        "colab": {
          "base_uri": "https://localhost:8080/"
        },
        "id": "HwhtLem1G6jD",
        "outputId": "dd5839d2-d88d-41e5-f7c9-546954e47d8b"
      },
      "outputs": [
        {
          "output_type": "execute_result",
          "data": {
            "text/plain": [
              "(3276, 10)"
            ]
          },
          "metadata": {},
          "execution_count": 6
        }
      ],
      "source": [
        "# Checking shape of the data\n",
        "df.shape"
      ]
    },
    {
      "cell_type": "code",
      "execution_count": 8,
      "metadata": {
        "colab": {
          "base_uri": "https://localhost:8080/",
          "height": 382
        },
        "id": "mEMkCknGmLAR",
        "outputId": "6a8771c6-03f7-49b9-e17a-1af2249c828b"
      },
      "outputs": [
        {
          "output_type": "execute_result",
          "data": {
            "text/plain": [
              "<pandas.io.formats.style.Styler at 0x7f7435da31c0>"
            ],
            "text/html": [
              "<style type=\"text/css\">\n",
              "#T_7c8d7_row0_col0, #T_7c8d7_row1_col1, #T_7c8d7_row2_col2, #T_7c8d7_row3_col3, #T_7c8d7_row4_col4, #T_7c8d7_row5_col5, #T_7c8d7_row6_col6, #T_7c8d7_row7_col7, #T_7c8d7_row8_col8, #T_7c8d7_row9_col9 {\n",
              "  background-color: #081d58;\n",
              "  color: #f1f1f1;\n",
              "}\n",
              "#T_7c8d7_row0_col1, #T_7c8d7_row3_col4 {\n",
              "  background-color: #e0f3b2;\n",
              "  color: #000000;\n",
              "}\n",
              "#T_7c8d7_row0_col2, #T_7c8d7_row0_col6 {\n",
              "  background-color: #f5fbc2;\n",
              "  color: #000000;\n",
              "}\n",
              "#T_7c8d7_row0_col3, #T_7c8d7_row0_col7, #T_7c8d7_row1_col6 {\n",
              "  background-color: #fafdcf;\n",
              "  color: #000000;\n",
              "}\n",
              "#T_7c8d7_row0_col4, #T_7c8d7_row8_col2 {\n",
              "  background-color: #e2f4b2;\n",
              "  color: #000000;\n",
              "}\n",
              "#T_7c8d7_row0_col5, #T_7c8d7_row2_col6, #T_7c8d7_row3_col8, #T_7c8d7_row9_col8 {\n",
              "  background-color: #f9fdcc;\n",
              "  color: #000000;\n",
              "}\n",
              "#T_7c8d7_row0_col8, #T_7c8d7_row1_col5, #T_7c8d7_row2_col0, #T_7c8d7_row2_col3, #T_7c8d7_row2_col4, #T_7c8d7_row3_col5, #T_7c8d7_row4_col1, #T_7c8d7_row4_col2, #T_7c8d7_row4_col7, #T_7c8d7_row6_col9, #T_7c8d7_row8_col6, #T_7c8d7_row9_col6 {\n",
              "  background-color: #ffffd9;\n",
              "  color: #000000;\n",
              "}\n",
              "#T_7c8d7_row0_col9, #T_7c8d7_row1_col8, #T_7c8d7_row4_col8, #T_7c8d7_row7_col5 {\n",
              "  background-color: #fcfed1;\n",
              "  color: #000000;\n",
              "}\n",
              "#T_7c8d7_row1_col0, #T_7c8d7_row5_col2 {\n",
              "  background-color: #e3f4b2;\n",
              "  color: #000000;\n",
              "}\n",
              "#T_7c8d7_row1_col2 {\n",
              "  background-color: #f0f9b7;\n",
              "  color: #000000;\n",
              "}\n",
              "#T_7c8d7_row1_col3, #T_7c8d7_row2_col5, #T_7c8d7_row7_col9, #T_7c8d7_row9_col7 {\n",
              "  background-color: #fafdce;\n",
              "  color: #000000;\n",
              "}\n",
              "#T_7c8d7_row1_col4, #T_7c8d7_row2_col8 {\n",
              "  background-color: #f7fcc7;\n",
              "  color: #000000;\n",
              "}\n",
              "#T_7c8d7_row1_col7, #T_7c8d7_row1_col9, #T_7c8d7_row3_col6, #T_7c8d7_row6_col7, #T_7c8d7_row7_col6, #T_7c8d7_row7_col8 {\n",
              "  background-color: #fdfed4;\n",
              "  color: #000000;\n",
              "}\n",
              "#T_7c8d7_row2_col1, #T_7c8d7_row3_col9, #T_7c8d7_row6_col3 {\n",
              "  background-color: #f8fcc9;\n",
              "  color: #000000;\n",
              "}\n",
              "#T_7c8d7_row2_col7, #T_7c8d7_row5_col9 {\n",
              "  background-color: #fcfed3;\n",
              "  color: #000000;\n",
              "}\n",
              "#T_7c8d7_row2_col9, #T_7c8d7_row4_col6 {\n",
              "  background-color: #f7fcc6;\n",
              "  color: #000000;\n",
              "}\n",
              "#T_7c8d7_row3_col0, #T_7c8d7_row5_col6 {\n",
              "  background-color: #f8fcca;\n",
              "  color: #000000;\n",
              "}\n",
              "#T_7c8d7_row3_col1, #T_7c8d7_row8_col3 {\n",
              "  background-color: #f5fbc4;\n",
              "  color: #000000;\n",
              "}\n",
              "#T_7c8d7_row3_col2, #T_7c8d7_row9_col3 {\n",
              "  background-color: #f3fabd;\n",
              "  color: #000000;\n",
              "}\n",
              "#T_7c8d7_row3_col7, #T_7c8d7_row5_col3, #T_7c8d7_row5_col8, #T_7c8d7_row6_col5, #T_7c8d7_row8_col0 {\n",
              "  background-color: #f9fdcb;\n",
              "  color: #000000;\n",
              "}\n",
              "#T_7c8d7_row4_col0, #T_7c8d7_row5_col0, #T_7c8d7_row6_col1 {\n",
              "  background-color: #f1faba;\n",
              "  color: #000000;\n",
              "}\n",
              "#T_7c8d7_row4_col3 {\n",
              "  background-color: #f2fabc;\n",
              "  color: #000000;\n",
              "}\n",
              "#T_7c8d7_row4_col5, #T_7c8d7_row4_col9 {\n",
              "  background-color: #feffd8;\n",
              "  color: #000000;\n",
              "}\n",
              "#T_7c8d7_row5_col1 {\n",
              "  background-color: #f4fbc1;\n",
              "  color: #000000;\n",
              "}\n",
              "#T_7c8d7_row5_col4 {\n",
              "  background-color: #eaf7b1;\n",
              "  color: #000000;\n",
              "}\n",
              "#T_7c8d7_row5_col7, #T_7c8d7_row8_col5, #T_7c8d7_row8_col9 {\n",
              "  background-color: #fbfdd0;\n",
              "  color: #000000;\n",
              "}\n",
              "#T_7c8d7_row6_col0 {\n",
              "  background-color: #edf8b2;\n",
              "  color: #000000;\n",
              "}\n",
              "#T_7c8d7_row6_col2 {\n",
              "  background-color: #e5f5b2;\n",
              "  color: #000000;\n",
              "}\n",
              "#T_7c8d7_row6_col4, #T_7c8d7_row9_col2 {\n",
              "  background-color: #dff2b2;\n",
              "  color: #000000;\n",
              "}\n",
              "#T_7c8d7_row6_col8, #T_7c8d7_row8_col7 {\n",
              "  background-color: #feffd6;\n",
              "  color: #000000;\n",
              "}\n",
              "#T_7c8d7_row7_col0, #T_7c8d7_row7_col1, #T_7c8d7_row8_col1, #T_7c8d7_row9_col1 {\n",
              "  background-color: #f3fabf;\n",
              "  color: #000000;\n",
              "}\n",
              "#T_7c8d7_row7_col2, #T_7c8d7_row8_col4 {\n",
              "  background-color: #e9f7b1;\n",
              "  color: #000000;\n",
              "}\n",
              "#T_7c8d7_row7_col3, #T_7c8d7_row9_col0 {\n",
              "  background-color: #f4fbc0;\n",
              "  color: #000000;\n",
              "}\n",
              "#T_7c8d7_row7_col4 {\n",
              "  background-color: #eef8b3;\n",
              "  color: #000000;\n",
              "}\n",
              "#T_7c8d7_row9_col4 {\n",
              "  background-color: #edf8b1;\n",
              "  color: #000000;\n",
              "}\n",
              "#T_7c8d7_row9_col5 {\n",
              "  background-color: #fdfed5;\n",
              "  color: #000000;\n",
              "}\n",
              "</style>\n",
              "<table id=\"T_7c8d7\" class=\"dataframe\">\n",
              "  <thead>\n",
              "    <tr>\n",
              "      <th class=\"blank level0\" >&nbsp;</th>\n",
              "      <th id=\"T_7c8d7_level0_col0\" class=\"col_heading level0 col0\" >ph</th>\n",
              "      <th id=\"T_7c8d7_level0_col1\" class=\"col_heading level0 col1\" >Hardness</th>\n",
              "      <th id=\"T_7c8d7_level0_col2\" class=\"col_heading level0 col2\" >Solids</th>\n",
              "      <th id=\"T_7c8d7_level0_col3\" class=\"col_heading level0 col3\" >Chloramines</th>\n",
              "      <th id=\"T_7c8d7_level0_col4\" class=\"col_heading level0 col4\" >Sulfate</th>\n",
              "      <th id=\"T_7c8d7_level0_col5\" class=\"col_heading level0 col5\" >Conductivity</th>\n",
              "      <th id=\"T_7c8d7_level0_col6\" class=\"col_heading level0 col6\" >Organic_carbon</th>\n",
              "      <th id=\"T_7c8d7_level0_col7\" class=\"col_heading level0 col7\" >Trihalomethanes</th>\n",
              "      <th id=\"T_7c8d7_level0_col8\" class=\"col_heading level0 col8\" >Turbidity</th>\n",
              "      <th id=\"T_7c8d7_level0_col9\" class=\"col_heading level0 col9\" >Potability</th>\n",
              "    </tr>\n",
              "  </thead>\n",
              "  <tbody>\n",
              "    <tr>\n",
              "      <th id=\"T_7c8d7_level0_row0\" class=\"row_heading level0 row0\" >ph</th>\n",
              "      <td id=\"T_7c8d7_row0_col0\" class=\"data row0 col0\" >1.000000</td>\n",
              "      <td id=\"T_7c8d7_row0_col1\" class=\"data row0 col1\" >0.082096</td>\n",
              "      <td id=\"T_7c8d7_row0_col2\" class=\"data row0 col2\" >-0.089288</td>\n",
              "      <td id=\"T_7c8d7_row0_col3\" class=\"data row0 col3\" >-0.034350</td>\n",
              "      <td id=\"T_7c8d7_row0_col4\" class=\"data row0 col4\" >0.018203</td>\n",
              "      <td id=\"T_7c8d7_row0_col5\" class=\"data row0 col5\" >0.018614</td>\n",
              "      <td id=\"T_7c8d7_row0_col6\" class=\"data row0 col6\" >0.043503</td>\n",
              "      <td id=\"T_7c8d7_row0_col7\" class=\"data row0 col7\" >0.003354</td>\n",
              "      <td id=\"T_7c8d7_row0_col8\" class=\"data row0 col8\" >-0.039057</td>\n",
              "      <td id=\"T_7c8d7_row0_col9\" class=\"data row0 col9\" >-0.003556</td>\n",
              "    </tr>\n",
              "    <tr>\n",
              "      <th id=\"T_7c8d7_level0_row1\" class=\"row_heading level0 row1\" >Hardness</th>\n",
              "      <td id=\"T_7c8d7_row1_col0\" class=\"data row1 col0\" >0.082096</td>\n",
              "      <td id=\"T_7c8d7_row1_col1\" class=\"data row1 col1\" >1.000000</td>\n",
              "      <td id=\"T_7c8d7_row1_col2\" class=\"data row1 col2\" >-0.046899</td>\n",
              "      <td id=\"T_7c8d7_row1_col3\" class=\"data row1 col3\" >-0.030054</td>\n",
              "      <td id=\"T_7c8d7_row1_col4\" class=\"data row1 col4\" >-0.106923</td>\n",
              "      <td id=\"T_7c8d7_row1_col5\" class=\"data row1 col5\" >-0.023915</td>\n",
              "      <td id=\"T_7c8d7_row1_col6\" class=\"data row1 col6\" >0.003610</td>\n",
              "      <td id=\"T_7c8d7_row1_col7\" class=\"data row1 col7\" >-0.013013</td>\n",
              "      <td id=\"T_7c8d7_row1_col8\" class=\"data row1 col8\" >-0.014449</td>\n",
              "      <td id=\"T_7c8d7_row1_col9\" class=\"data row1 col9\" >-0.013837</td>\n",
              "    </tr>\n",
              "    <tr>\n",
              "      <th id=\"T_7c8d7_level0_row2\" class=\"row_heading level0 row2\" >Solids</th>\n",
              "      <td id=\"T_7c8d7_row2_col0\" class=\"data row2 col0\" >-0.089288</td>\n",
              "      <td id=\"T_7c8d7_row2_col1\" class=\"data row2 col1\" >-0.046899</td>\n",
              "      <td id=\"T_7c8d7_row2_col2\" class=\"data row2 col2\" >1.000000</td>\n",
              "      <td id=\"T_7c8d7_row2_col3\" class=\"data row2 col3\" >-0.070148</td>\n",
              "      <td id=\"T_7c8d7_row2_col4\" class=\"data row2 col4\" >-0.171804</td>\n",
              "      <td id=\"T_7c8d7_row2_col5\" class=\"data row2 col5\" >0.013831</td>\n",
              "      <td id=\"T_7c8d7_row2_col6\" class=\"data row2 col6\" >0.010242</td>\n",
              "      <td id=\"T_7c8d7_row2_col7\" class=\"data row2 col7\" >-0.009143</td>\n",
              "      <td id=\"T_7c8d7_row2_col8\" class=\"data row2 col8\" >0.019546</td>\n",
              "      <td id=\"T_7c8d7_row2_col9\" class=\"data row2 col9\" >0.033743</td>\n",
              "    </tr>\n",
              "    <tr>\n",
              "      <th id=\"T_7c8d7_level0_row3\" class=\"row_heading level0 row3\" >Chloramines</th>\n",
              "      <td id=\"T_7c8d7_row3_col0\" class=\"data row3 col0\" >-0.034350</td>\n",
              "      <td id=\"T_7c8d7_row3_col1\" class=\"data row3 col1\" >-0.030054</td>\n",
              "      <td id=\"T_7c8d7_row3_col2\" class=\"data row3 col2\" >-0.070148</td>\n",
              "      <td id=\"T_7c8d7_row3_col3\" class=\"data row3 col3\" >1.000000</td>\n",
              "      <td id=\"T_7c8d7_row3_col4\" class=\"data row3 col4\" >0.027244</td>\n",
              "      <td id=\"T_7c8d7_row3_col5\" class=\"data row3 col5\" >-0.020486</td>\n",
              "      <td id=\"T_7c8d7_row3_col6\" class=\"data row3 col6\" >-0.012653</td>\n",
              "      <td id=\"T_7c8d7_row3_col7\" class=\"data row3 col7\" >0.017084</td>\n",
              "      <td id=\"T_7c8d7_row3_col8\" class=\"data row3 col8\" >0.002363</td>\n",
              "      <td id=\"T_7c8d7_row3_col9\" class=\"data row3 col9\" >0.023779</td>\n",
              "    </tr>\n",
              "    <tr>\n",
              "      <th id=\"T_7c8d7_level0_row4\" class=\"row_heading level0 row4\" >Sulfate</th>\n",
              "      <td id=\"T_7c8d7_row4_col0\" class=\"data row4 col0\" >0.018203</td>\n",
              "      <td id=\"T_7c8d7_row4_col1\" class=\"data row4 col1\" >-0.106923</td>\n",
              "      <td id=\"T_7c8d7_row4_col2\" class=\"data row4 col2\" >-0.171804</td>\n",
              "      <td id=\"T_7c8d7_row4_col3\" class=\"data row4 col3\" >0.027244</td>\n",
              "      <td id=\"T_7c8d7_row4_col4\" class=\"data row4 col4\" >1.000000</td>\n",
              "      <td id=\"T_7c8d7_row4_col5\" class=\"data row4 col5\" >-0.016121</td>\n",
              "      <td id=\"T_7c8d7_row4_col6\" class=\"data row4 col6\" >0.030831</td>\n",
              "      <td id=\"T_7c8d7_row4_col7\" class=\"data row4 col7\" >-0.030274</td>\n",
              "      <td id=\"T_7c8d7_row4_col8\" class=\"data row4 col8\" >-0.011187</td>\n",
              "      <td id=\"T_7c8d7_row4_col9\" class=\"data row4 col9\" >-0.023577</td>\n",
              "    </tr>\n",
              "    <tr>\n",
              "      <th id=\"T_7c8d7_level0_row5\" class=\"row_heading level0 row5\" >Conductivity</th>\n",
              "      <td id=\"T_7c8d7_row5_col0\" class=\"data row5 col0\" >0.018614</td>\n",
              "      <td id=\"T_7c8d7_row5_col1\" class=\"data row5 col1\" >-0.023915</td>\n",
              "      <td id=\"T_7c8d7_row5_col2\" class=\"data row5 col2\" >0.013831</td>\n",
              "      <td id=\"T_7c8d7_row5_col3\" class=\"data row5 col3\" >-0.020486</td>\n",
              "      <td id=\"T_7c8d7_row5_col4\" class=\"data row5 col4\" >-0.016121</td>\n",
              "      <td id=\"T_7c8d7_row5_col5\" class=\"data row5 col5\" >1.000000</td>\n",
              "      <td id=\"T_7c8d7_row5_col6\" class=\"data row5 col6\" >0.020966</td>\n",
              "      <td id=\"T_7c8d7_row5_col7\" class=\"data row5 col7\" >0.001285</td>\n",
              "      <td id=\"T_7c8d7_row5_col8\" class=\"data row5 col8\" >0.005798</td>\n",
              "      <td id=\"T_7c8d7_row5_col9\" class=\"data row5 col9\" >-0.008128</td>\n",
              "    </tr>\n",
              "    <tr>\n",
              "      <th id=\"T_7c8d7_level0_row6\" class=\"row_heading level0 row6\" >Organic_carbon</th>\n",
              "      <td id=\"T_7c8d7_row6_col0\" class=\"data row6 col0\" >0.043503</td>\n",
              "      <td id=\"T_7c8d7_row6_col1\" class=\"data row6 col1\" >0.003610</td>\n",
              "      <td id=\"T_7c8d7_row6_col2\" class=\"data row6 col2\" >0.010242</td>\n",
              "      <td id=\"T_7c8d7_row6_col3\" class=\"data row6 col3\" >-0.012653</td>\n",
              "      <td id=\"T_7c8d7_row6_col4\" class=\"data row6 col4\" >0.030831</td>\n",
              "      <td id=\"T_7c8d7_row6_col5\" class=\"data row6 col5\" >0.020966</td>\n",
              "      <td id=\"T_7c8d7_row6_col6\" class=\"data row6 col6\" >1.000000</td>\n",
              "      <td id=\"T_7c8d7_row6_col7\" class=\"data row6 col7\" >-0.013274</td>\n",
              "      <td id=\"T_7c8d7_row6_col8\" class=\"data row6 col8\" >-0.027308</td>\n",
              "      <td id=\"T_7c8d7_row6_col9\" class=\"data row6 col9\" >-0.030001</td>\n",
              "    </tr>\n",
              "    <tr>\n",
              "      <th id=\"T_7c8d7_level0_row7\" class=\"row_heading level0 row7\" >Trihalomethanes</th>\n",
              "      <td id=\"T_7c8d7_row7_col0\" class=\"data row7 col0\" >0.003354</td>\n",
              "      <td id=\"T_7c8d7_row7_col1\" class=\"data row7 col1\" >-0.013013</td>\n",
              "      <td id=\"T_7c8d7_row7_col2\" class=\"data row7 col2\" >-0.009143</td>\n",
              "      <td id=\"T_7c8d7_row7_col3\" class=\"data row7 col3\" >0.017084</td>\n",
              "      <td id=\"T_7c8d7_row7_col4\" class=\"data row7 col4\" >-0.030274</td>\n",
              "      <td id=\"T_7c8d7_row7_col5\" class=\"data row7 col5\" >0.001285</td>\n",
              "      <td id=\"T_7c8d7_row7_col6\" class=\"data row7 col6\" >-0.013274</td>\n",
              "      <td id=\"T_7c8d7_row7_col7\" class=\"data row7 col7\" >1.000000</td>\n",
              "      <td id=\"T_7c8d7_row7_col8\" class=\"data row7 col8\" >-0.022145</td>\n",
              "      <td id=\"T_7c8d7_row7_col9\" class=\"data row7 col9\" >0.007130</td>\n",
              "    </tr>\n",
              "    <tr>\n",
              "      <th id=\"T_7c8d7_level0_row8\" class=\"row_heading level0 row8\" >Turbidity</th>\n",
              "      <td id=\"T_7c8d7_row8_col0\" class=\"data row8 col0\" >-0.039057</td>\n",
              "      <td id=\"T_7c8d7_row8_col1\" class=\"data row8 col1\" >-0.014449</td>\n",
              "      <td id=\"T_7c8d7_row8_col2\" class=\"data row8 col2\" >0.019546</td>\n",
              "      <td id=\"T_7c8d7_row8_col3\" class=\"data row8 col3\" >0.002363</td>\n",
              "      <td id=\"T_7c8d7_row8_col4\" class=\"data row8 col4\" >-0.011187</td>\n",
              "      <td id=\"T_7c8d7_row8_col5\" class=\"data row8 col5\" >0.005798</td>\n",
              "      <td id=\"T_7c8d7_row8_col6\" class=\"data row8 col6\" >-0.027308</td>\n",
              "      <td id=\"T_7c8d7_row8_col7\" class=\"data row8 col7\" >-0.022145</td>\n",
              "      <td id=\"T_7c8d7_row8_col8\" class=\"data row8 col8\" >1.000000</td>\n",
              "      <td id=\"T_7c8d7_row8_col9\" class=\"data row8 col9\" >0.001581</td>\n",
              "    </tr>\n",
              "    <tr>\n",
              "      <th id=\"T_7c8d7_level0_row9\" class=\"row_heading level0 row9\" >Potability</th>\n",
              "      <td id=\"T_7c8d7_row9_col0\" class=\"data row9 col0\" >-0.003556</td>\n",
              "      <td id=\"T_7c8d7_row9_col1\" class=\"data row9 col1\" >-0.013837</td>\n",
              "      <td id=\"T_7c8d7_row9_col2\" class=\"data row9 col2\" >0.033743</td>\n",
              "      <td id=\"T_7c8d7_row9_col3\" class=\"data row9 col3\" >0.023779</td>\n",
              "      <td id=\"T_7c8d7_row9_col4\" class=\"data row9 col4\" >-0.023577</td>\n",
              "      <td id=\"T_7c8d7_row9_col5\" class=\"data row9 col5\" >-0.008128</td>\n",
              "      <td id=\"T_7c8d7_row9_col6\" class=\"data row9 col6\" >-0.030001</td>\n",
              "      <td id=\"T_7c8d7_row9_col7\" class=\"data row9 col7\" >0.007130</td>\n",
              "      <td id=\"T_7c8d7_row9_col8\" class=\"data row9 col8\" >0.001581</td>\n",
              "      <td id=\"T_7c8d7_row9_col9\" class=\"data row9 col9\" >1.000000</td>\n",
              "    </tr>\n",
              "  </tbody>\n",
              "</table>\n"
            ]
          },
          "metadata": {},
          "execution_count": 8
        }
      ],
      "source": [
        "# Checking correlation\n",
        "correlation = df.corr().style.background_gradient(cmap = 'YlGnBu')\n",
        "correlation"
      ]
    },
    {
      "cell_type": "code",
      "execution_count": 9,
      "metadata": {
        "colab": {
          "base_uri": "https://localhost:8080/",
          "height": 817
        },
        "id": "jjp6-79Lhkg6",
        "outputId": "7926c3a3-3d13-48fb-f830-b09514e4d795"
      },
      "outputs": [
        {
          "output_type": "execute_result",
          "data": {
            "text/plain": [
              "<Axes: >"
            ]
          },
          "metadata": {},
          "execution_count": 9
        },
        {
          "output_type": "display_data",
          "data": {
            "text/plain": [
              "<Figure size 1000x1000 with 2 Axes>"
            ],
            "image/png": "[encoded data removed]"
          },
          "metadata": {}
        }
      ],
      "source": [
        "# heatmap of correlation\n",
        "\n",
        "fig=plt.figure(figsize=(10,10))\n",
        "sns.heatmap(df.corr(), annot = True)"
      ]
    },
    {
      "cell_type": "markdown",
      "metadata": {
        "id": "c1I8WtjhvImb"
      },
      "source": [
        "It shows that there are no multicollinearty."
      ]
    },
    {
      "cell_type": "markdown",
      "metadata": {
        "id": "cdCp_DEjnj55"
      },
      "source": [
        "# Check unique item in Potability"
      ]
    },
    {
      "cell_type": "code",
      "execution_count": 10,
      "metadata": {
        "colab": {
          "base_uri": "https://localhost:8080/"
        },
        "id": "3iwTU1fenFDN",
        "outputId": "fcbb0344-22c0-4e16-94fd-397bb6fb32ed"
      },
      "outputs": [
        {
          "output_type": "execute_result",
          "data": {
            "text/plain": [
              "array([0, 1])"
            ]
          },
          "metadata": {},
          "execution_count": 10
        }
      ],
      "source": [
        "df['Potability'].unique()"
      ]
    },
    {
      "cell_type": "markdown",
      "metadata": {
        "id": "FwhRewIknYhh"
      },
      "source": [
        "There are two unique values in potability column. 0 means bad water and 1 means good.\n"
      ]
    },
    {
      "cell_type": "code",
      "execution_count": 11,
      "metadata": {
        "colab": {
          "base_uri": "https://localhost:8080/"
        },
        "id": "faRUx6GQuhAU",
        "outputId": "8019d857-6a6d-44c5-9f3b-4cf2aad3aac3"
      },
      "outputs": [
        {
          "output_type": "execute_result",
          "data": {
            "text/plain": [
              "0    1998\n",
              "1    1278\n",
              "Name: Potability, dtype: int64"
            ]
          },
          "metadata": {},
          "execution_count": 11
        }
      ],
      "source": [
        "df.Potability.value_counts()"
      ]
    },
    {
      "cell_type": "code",
      "source": [
        "df['Potability'].replace(0, 'Impure water', inplace = True)\n",
        "df['Potability'].replace(1,'Pure water', inplace = True)"
      ],
      "metadata": {
        "id": "43kozHTTaxHj"
      },
      "execution_count": 12,
      "outputs": []
    },
    {
      "cell_type": "code",
      "source": [
        "# Pure or impure water on count plot\n",
        "\n",
        "sns.countplot(x = 'Potability', data = df)"
      ],
      "metadata": {
        "colab": {
          "base_uri": "https://localhost:8080/",
          "height": 467
        },
        "id": "WquEB8KnbIM2",
        "outputId": "6aa593bc-e65e-468d-9cf2-ee51dbb18f92"
      },
      "execution_count": 13,
      "outputs": [
        {
          "output_type": "execute_result",
          "data": {
            "text/plain": [
              "<Axes: xlabel='Potability', ylabel='count'>"
            ]
          },
          "metadata": {},
          "execution_count": 13
        },
        {
          "output_type": "display_data",
          "data": {
            "text/plain": [
              "<Figure size 640x480 with 1 Axes>"
            ],
            "image/png": "[encoded data removed]"
          },
          "metadata": {}
        }
      ]
    },
    {
      "cell_type": "code",
      "source": [
        "df['Potability'].replace('Impure water',0, inplace = True)\n",
        "df['Potability'].replace('Pure water',1, inplace = True)"
      ],
      "metadata": {
        "id": "QM-qVlUnbl8C"
      },
      "execution_count": 14,
      "outputs": []
    },
    {
      "cell_type": "markdown",
      "metadata": {
        "id": "d_kxZrnPmyL-"
      },
      "source": [
        "# Handle missing data"
      ]
    },
    {
      "cell_type": "markdown",
      "metadata": {
        "id": "vwbqLyTLrk-j"
      },
      "source": [
        "Checking missing data"
      ]
    },
    {
      "cell_type": "code",
      "execution_count": 15,
      "metadata": {
        "colab": {
          "base_uri": "https://localhost:8080/"
        },
        "id": "6wm_furInBCQ",
        "outputId": "32aebe4e-fe13-49fe-856c-17c9950152b1"
      },
      "outputs": [
        {
          "output_type": "execute_result",
          "data": {
            "text/plain": [
              "ph                 491\n",
              "Hardness             0\n",
              "Solids               0\n",
              "Chloramines          0\n",
              "Sulfate            781\n",
              "Conductivity         0\n",
              "Organic_carbon       0\n",
              "Trihalomethanes    162\n",
              "Turbidity            0\n",
              "Potability           0\n",
              "dtype: int64"
            ]
          },
          "metadata": {},
          "execution_count": 15
        }
      ],
      "source": [
        "df.isna().sum()"
      ]
    },
    {
      "cell_type": "markdown",
      "metadata": {
        "id": "D1KUQ_C6rVjR"
      },
      "source": [
        "Box plot of ph column to check outliers"
      ]
    },
    {
      "cell_type": "code",
      "execution_count": 16,
      "metadata": {
        "colab": {
          "base_uri": "https://localhost:8080/",
          "height": 448
        },
        "id": "T1xjLX-kq_8g",
        "outputId": "8aa157bc-1634-4351-a1b4-da8c49626d65"
      },
      "outputs": [
        {
          "output_type": "execute_result",
          "data": {
            "text/plain": [
              "<Axes: >"
            ]
          },
          "metadata": {},
          "execution_count": 16
        },
        {
          "output_type": "display_data",
          "data": {
            "text/plain": [
              "<Figure size 640x480 with 1 Axes>"
            ],
            "image/png": "[encoded data removed]"
          },
          "metadata": {}
        }
      ],
      "source": [
        "sns.boxplot(data=df['ph'])"
      ]
    },
    {
      "cell_type": "markdown",
      "metadata": {
        "id": "y-2K3M5Trsa_"
      },
      "source": [
        "Box plot of Sulfate column to check outliers."
      ]
    },
    {
      "cell_type": "code",
      "execution_count": 17,
      "metadata": {
        "colab": {
          "base_uri": "https://localhost:8080/",
          "height": 448
        },
        "id": "8iskT91vrrQb",
        "outputId": "9cb20b90-0235-4b1a-a819-26dbc07b82e7"
      },
      "outputs": [
        {
          "output_type": "execute_result",
          "data": {
            "text/plain": [
              "<Axes: >"
            ]
          },
          "metadata": {},
          "execution_count": 17
        },
        {
          "output_type": "display_data",
          "data": {
            "text/plain": [
              "<Figure size 640x480 with 1 Axes>"
            ],
            "image/png": "[encoded data removed]"
          },
          "metadata": {}
        }
      ],
      "source": [
        "sns.boxplot(data = df.Sulfate)"
      ]
    },
    {
      "cell_type": "markdown",
      "metadata": {
        "id": "vR768KS6r6w2"
      },
      "source": [
        "Box plot of Trihalomethanes to check outliers."
      ]
    },
    {
      "cell_type": "code",
      "execution_count": 18,
      "metadata": {
        "colab": {
          "base_uri": "https://localhost:8080/",
          "height": 448
        },
        "id": "NvDfgviarrX_",
        "outputId": "bf2a50b0-53dd-41ca-a333-18c409bffb43"
      },
      "outputs": [
        {
          "output_type": "execute_result",
          "data": {
            "text/plain": [
              "<Axes: >"
            ]
          },
          "metadata": {},
          "execution_count": 18
        },
        {
          "output_type": "display_data",
          "data": {
            "text/plain": [
              "<Figure size 640x480 with 1 Axes>"
            ],
            "image/png": "[encoded data removed]"
          },
          "metadata": {}
        }
      ],
      "source": [
        "sns.boxplot(data = df.Trihalomethanes)"
      ]
    },
    {
      "cell_type": "markdown",
      "metadata": {
        "id": "XWbZnvpxtjeN"
      },
      "source": [
        "It shows ph, Sulfate and Trihalomethanes has outliers so we use mean to fill missing data."
      ]
    },
    {
      "cell_type": "markdown",
      "metadata": {
        "id": "4NxNSLLyHfQQ"
      },
      "source": [
        "# Filling missing data with mean value"
      ]
    },
    {
      "cell_type": "code",
      "source": [
        "df['ph'] = df['ph'].fillna(df.groupby(['Potability'])['ph'].transform('mean'))\n",
        "df['Sulfate'] = df['Sulfate'].fillna(df.groupby(['Potability'])['Sulfate'].transform('mean'))\n",
        "df['Trihalomethanes'] = df['Trihalomethanes'].fillna(df.groupby(['Potability'])['Trihalomethanes'].transform('mean'))"
      ],
      "metadata": {
        "id": "4dEV2ia90Bp-"
      },
      "execution_count": 19,
      "outputs": []
    },
    {
      "cell_type": "code",
      "source": [
        "df.head()"
      ],
      "metadata": {
        "colab": {
          "base_uri": "https://localhost:8080/",
          "height": 270
        },
        "id": "FOV1E8Jo7ZU_",
        "outputId": "03b901c0-f8c3-4ac2-f7c2-c4d67b338fa4"
      },
      "execution_count": 20,
      "outputs": [
        {
          "output_type": "execute_result",
          "data": {
            "text/plain": [
              "         ph    Hardness        Solids  Chloramines     Sulfate  Conductivity  \\\n",
              "0  7.085378  204.890455  20791.318981     7.300212  368.516441    564.308654   \n",
              "1  3.716080  129.422921  18630.057858     6.635246  334.564290    592.885359   \n",
              "2  8.099124  224.236259  19909.541732     9.275884  334.564290    418.606213   \n",
              "3  8.316766  214.373394  22018.417441     8.059332  356.886136    363.266516   \n",
              "4  9.092223  181.101509  17978.986339     6.546600  310.135738    398.410813   \n",
              "\n",
              "   Organic_carbon  Trihalomethanes  Turbidity  Potability  \n",
              "0       10.379783        86.990970   2.963135           0  \n",
              "1       15.180013        56.329076   4.500656           0  \n",
              "2       16.868637        66.420093   3.055934           0  \n",
              "3       18.436524       100.341674   4.628771           0  \n",
              "4       11.558279        31.997993   4.075075           0  "
            ],
            "text/html": [
              "\n",
              "  <div id=\"df-60b1c130-4840-4ffd-9ab8-0e9ae256d2d0\">\n",
              "    <div class=\"colab-df-container\">\n",
              "      <div>\n",
              "<style scoped>\n",
              "    .dataframe tbody tr th:only-of-type {\n",
              "        vertical-align: middle;\n",
              "    }\n",
              "\n",
              "    .dataframe tbody tr th {\n",
              "        vertical-align: top;\n",
              "    }\n",
              "\n",
              "    .dataframe thead th {\n",
              "        text-align: right;\n",
              "    }\n",
              "</style>\n",
              "<table border=\"1\" class=\"dataframe\">\n",
              "  <thead>\n",
              "    <tr style=\"text-align: right;\">\n",
              "      <th></th>\n",
              "      <th>ph</th>\n",
              "      <th>Hardness</th>\n",
              "      <th>Solids</th>\n",
              "      <th>Chloramines</th>\n",
              "      <th>Sulfate</th>\n",
              "      <th>Conductivity</th>\n",
              "      <th>Organic_carbon</th>\n",
              "      <th>Trihalomethanes</th>\n",
              "      <th>Turbidity</th>\n",
              "      <th>Potability</th>\n",
              "    </tr>\n",
              "  </thead>\n",
              "  <tbody>\n",
              "    <tr>\n",
              "      <th>0</th>\n",
              "      <td>7.085378</td>\n",
              "      <td>204.890455</td>\n",
              "      <td>20791.318981</td>\n",
              "      <td>7.300212</td>\n",
              "      <td>368.516441</td>\n",
              "      <td>564.308654</td>\n",
              "      <td>10.379783</td>\n",
              "      <td>86.990970</td>\n",
              "      <td>2.963135</td>\n",
              "      <td>0</td>\n",
              "    </tr>\n",
              "    <tr>\n",
              "      <th>1</th>\n",
              "      <td>3.716080</td>\n",
              "      <td>129.422921</td>\n",
              "      <td>18630.057858</td>\n",
              "      <td>6.635246</td>\n",
              "      <td>334.564290</td>\n",
              "      <td>592.885359</td>\n",
              "      <td>15.180013</td>\n",
              "      <td>56.329076</td>\n",
              "      <td>4.500656</td>\n",
              "      <td>0</td>\n",
              "    </tr>\n",
              "    <tr>\n",
              "      <th>2</th>\n",
              "      <td>8.099124</td>\n",
              "      <td>224.236259</td>\n",
              "      <td>19909.541732</td>\n",
              "      <td>9.275884</td>\n",
              "      <td>334.564290</td>\n",
              "      <td>418.606213</td>\n",
              "      <td>16.868637</td>\n",
              "      <td>66.420093</td>\n",
              "      <td>3.055934</td>\n",
              "      <td>0</td>\n",
              "    </tr>\n",
              "    <tr>\n",
              "      <th>3</th>\n",
              "      <td>8.316766</td>\n",
              "      <td>214.373394</td>\n",
              "      <td>22018.417441</td>\n",
              "      <td>8.059332</td>\n",
              "      <td>356.886136</td>\n",
              "      <td>363.266516</td>\n",
              "      <td>18.436524</td>\n",
              "      <td>100.341674</td>\n",
              "      <td>4.628771</td>\n",
              "      <td>0</td>\n",
              "    </tr>\n",
              "    <tr>\n",
              "      <th>4</th>\n",
              "      <td>9.092223</td>\n",
              "      <td>181.101509</td>\n",
              "      <td>17978.986339</td>\n",
              "      <td>6.546600</td>\n",
              "      <td>310.135738</td>\n",
              "      <td>398.410813</td>\n",
              "      <td>11.558279</td>\n",
              "      <td>31.997993</td>\n",
              "      <td>4.075075</td>\n",
              "      <td>0</td>\n",
              "    </tr>\n",
              "  </tbody>\n",
              "</table>\n",
              "</div>\n",
              "      <button class=\"colab-df-convert\" onclick=\"convertToInteractive('df-60b1c130-4840-4ffd-9ab8-0e9ae256d2d0')\"\n",
              "              title=\"Convert this dataframe to an interactive table.\"\n",
              "              style=\"display:none;\">\n",
              "        \n",
              "  <svg xmlns=\"http://www.w3.org/2000/svg\" height=\"24px\"viewBox=\"0 0 24 24\"\n",
              "       width=\"24px\">\n",
              "    <path d=\"M0 0h24v24H0V0z\" fill=\"none\"/>\n",
              "    <path d=\"M18.56 5.44l.94 2.06.94-2.06 2.06-.94-2.06-.94-.94-2.06-.94 2.06-2.06.94zm-11 1L8.5 8.5l.94-2.06 2.06-.94-2.06-.94L8.5 2.5l-.94 2.06-2.06.94zm10 10l.94 2.06.94-2.06 2.06-.94-2.06-.94-.94-2.06-.94 2.06-2.06.94z\"/><path d=\"M17.41 7.96l-1.37-1.37c-.4-.4-.92-.59-1.43-.59-.52 0-1.04.2-1.43.59L10.3 9.45l-7.72 7.72c-.78.78-.78 2.05 0 2.83L4 21.41c.39.39.9.59 1.41.59.51 0 1.02-.2 1.41-.59l7.78-7.78 2.81-2.81c.8-.78.8-2.07 0-2.86zM5.41 20L4 18.59l7.72-7.72 1.47 1.35L5.41 20z\"/>\n",
              "  </svg>\n",
              "      </button>\n",
              "      \n",
              "  <style>\n",
              "    .colab-df-container {\n",
              "      display:flex;\n",
              "      flex-wrap:wrap;\n",
              "      gap: 12px;\n",
              "    }\n",
              "\n",
              "    .colab-df-convert {\n",
              "      background-color: #E8F0FE;\n",
              "      border: none;\n",
              "      border-radius: 50%;\n",
              "      cursor: pointer;\n",
              "      display: none;\n",
              "      fill: #1967D2;\n",
              "      height: 32px;\n",
              "      padding: 0 0 0 0;\n",
              "      width: 32px;\n",
              "    }\n",
              "\n",
              "    .colab-df-convert:hover {\n",
              "      background-color: #E2EBFA;\n",
              "      box-shadow: 0px 1px 2px rgba(60, 64, 67, 0.3), 0px 1px 3px 1px rgba(60, 64, 67, 0.15);\n",
              "      fill: #174EA6;\n",
              "    }\n",
              "\n",
              "    [theme=dark] .colab-df-convert {\n",
              "      background-color: #3B4455;\n",
              "      fill: #D2E3FC;\n",
              "    }\n",
              "\n",
              "    [theme=dark] .colab-df-convert:hover {\n",
              "      background-color: #434B5C;\n",
              "      box-shadow: 0px 1px 3px 1px rgba(0, 0, 0, 0.15);\n",
              "      filter: drop-shadow(0px 1px 2px rgba(0, 0, 0, 0.3));\n",
              "      fill: #FFFFFF;\n",
              "    }\n",
              "  </style>\n",
              "\n",
              "      <script>\n",
              "        const buttonEl =\n",
              "          document.querySelector('#df-60b1c130-4840-4ffd-9ab8-0e9ae256d2d0 button.colab-df-convert');\n",
              "        buttonEl.style.display =\n",
              "          google.colab.kernel.accessAllowed ? 'block' : 'none';\n",
              "\n",
              "        async function convertToInteractive(key) {\n",
              "          const element = document.querySelector('#df-60b1c130-4840-4ffd-9ab8-0e9ae256d2d0');\n",
              "          const dataTable =\n",
              "            await google.colab.kernel.invokeFunction('convertToInteractive',\n",
              "                                                     [key], {});\n",
              "          if (!dataTable) return;\n",
              "\n",
              "          const docLinkHtml = 'Like what you see? Visit the ' +\n",
              "            '<a target=\"_blank\" href=https://colab.research.google.com/notebooks/data_table.ipynb>data table notebook</a>'\n",
              "            + ' to learn more about interactive tables.';\n",
              "          element.innerHTML = '';\n",
              "          dataTable['output_type'] = 'display_data';\n",
              "          await google.colab.output.renderOutput(dataTable, element);\n",
              "          const docLink = document.createElement('div');\n",
              "          docLink.innerHTML = docLinkHtml;\n",
              "          element.appendChild(docLink);\n",
              "        }\n",
              "      </script>\n",
              "    </div>\n",
              "  </div>\n",
              "  "
            ]
          },
          "metadata": {},
          "execution_count": 20
        }
      ]
    },
    {
      "cell_type": "code",
      "execution_count": 21,
      "metadata": {
        "colab": {
          "base_uri": "https://localhost:8080/"
        },
        "id": "fIEuouJHoO5Z",
        "outputId": "d29c98c0-7d6c-4ba7-9b4a-18d708be8e4d"
      },
      "outputs": [
        {
          "output_type": "execute_result",
          "data": {
            "text/plain": [
              "ph                 0\n",
              "Hardness           0\n",
              "Solids             0\n",
              "Chloramines        0\n",
              "Sulfate            0\n",
              "Conductivity       0\n",
              "Organic_carbon     0\n",
              "Trihalomethanes    0\n",
              "Turbidity          0\n",
              "Potability         0\n",
              "dtype: int64"
            ]
          },
          "metadata": {},
          "execution_count": 21
        }
      ],
      "source": [
        "df.isna().sum()"
      ]
    },
    {
      "cell_type": "markdown",
      "metadata": {
        "id": "DgJ2nLZYoTw0"
      },
      "source": [
        "After handling missing data there are no null values in dataset columns."
      ]
    },
    {
      "cell_type": "markdown",
      "metadata": {
        "id": "PqMBpBypwZQR"
      },
      "source": [
        "# Feature Selection"
      ]
    },
    {
      "cell_type": "code",
      "execution_count": 22,
      "metadata": {
        "id": "I4fEF_--oZcY"
      },
      "outputs": [],
      "source": [
        "from sklearn.model_selection import train_test_split\n",
        "\n",
        "X = df.iloc[:,:-1]\n",
        "y = df.Potability\n",
        "\n",
        "X_train,X_test,y_train,y_test = train_test_split(X, y, test_size = 0.2, random_state = 40)"
      ]
    },
    {
      "cell_type": "markdown",
      "metadata": {
        "id": "-A2-i3THzzNq"
      },
      "source": [
        "# Making model"
      ]
    },
    {
      "cell_type": "code",
      "execution_count": 23,
      "metadata": {
        "colab": {
          "base_uri": "https://localhost:8080/"
        },
        "id": "0VJwpMaDuGDw",
        "outputId": "95dd4dac-6663-495e-d223-7029b8ca55c5"
      },
      "outputs": [
        {
          "output_type": "execute_result",
          "data": {
            "text/plain": [
              "0.600609756097561"
            ]
          },
          "metadata": {},
          "execution_count": 23
        }
      ],
      "source": [
        "# Logistic Regression algorithm\n",
        "\n",
        "from sklearn.linear_model import LogisticRegression\n",
        "model = LogisticRegression(random_state = 40)\n",
        "model.fit(X_train,y_train)\n",
        "\n",
        "y_pred = model.predict(X_test)\n",
        "model.score(X_test, y_test)"
      ]
    },
    {
      "cell_type": "code",
      "source": [
        "# Random Forest Classifier\n",
        "\n",
        "from sklearn.ensemble import RandomForestClassifier\n",
        "rfc = RandomForestClassifier(random_state=42)\n",
        "rfc.fit(X_train,y_train)\n",
        "y_pred_rfc = rfc.predict(X_test)"
      ],
      "metadata": {
        "id": "NNWS8CMw1PJ4"
      },
      "execution_count": 27,
      "outputs": []
    },
    {
      "cell_type": "code",
      "source": [
        "# Support Vector Classifier\n",
        "\n",
        "from sklearn.svm import SVC\n",
        "model_svc = SVC(random_state = 40)\n",
        "model_svc.fit(X_train, y_train)\n",
        "y_pred_svc = model_svc.predict(X_test)"
      ],
      "metadata": {
        "id": "TDJakY1eBwE9"
      },
      "execution_count": 26,
      "outputs": []
    },
    {
      "cell_type": "markdown",
      "metadata": {
        "id": "6PvXFJA6zUl0"
      },
      "source": [
        "# Evaluation"
      ]
    },
    {
      "cell_type": "code",
      "execution_count": 28,
      "metadata": {
        "colab": {
          "base_uri": "https://localhost:8080/"
        },
        "id": "npG0WQg8x64q",
        "outputId": "7288a0c3-2fcb-4163-c7f0-01f2a413eb2e"
      },
      "outputs": [
        {
          "output_type": "stream",
          "name": "stdout",
          "text": [
            "Accuracy score for Logistic Regression is  0.600609756097561 i.e. 60 %\n",
            "Accuracy score for Random Forest Classifier is 0.7896341463414634 i.e. 79%\n",
            "Accuracy score for Support Vector Classifier is 0.600609756097561 i.e. 60%\n"
          ]
        }
      ],
      "source": [
        "from sklearn.metrics import (accuracy_score, classification_report, f1_score)\n",
        "\n",
        "# Accuracy Score for every module\n",
        "\n",
        "ac = accuracy_score(y_true = y_test, y_pred = y_pred)\n",
        "print(f'Accuracy score for Logistic Regression is  {ac} i.e. {round(ac*100)} %')\n",
        "\n",
        "ac_rfc = accuracy_score(y_test,y_pred_rfc)\n",
        "print(f'Accuracy score for Random Forest Classifier is {ac_rfc} i.e. {round(ac_rfc*100)}%')\n",
        "\n",
        "ac_svc = accuracy_score(y_test,y_pred_svc)\n",
        "print(f'Accuracy score for Support Vector Classifier is {ac_svc} i.e. {round(ac_svc*100)}%')"
      ]
    },
    {
      "cell_type": "code",
      "source": [
        "# F1_score for every module\n",
        "\n",
        "f1_l = f1_score(y_test, y_pred)\n",
        "print(f'f1_score for Logistic Regression is {f1_l} i.e. {round(f1_l*100)}%')\n",
        "\n",
        "f1_rfc = f1_score(y_test, y_pred_rfc)\n",
        "print(f'f1_score for Random Forest Classifier is {f1_rfc} i.e. {round(f1_rfc*100)}%')\n",
        "\n",
        "f_svc = accuracy_score(y_test,y_pred_svc)\n",
        "print(f'Accuracy score for Random Forest Classifier is {f_svc} i.e. {round(f_svc*100)}%')\n"
      ],
      "metadata": {
        "colab": {
          "base_uri": "https://localhost:8080/"
        },
        "id": "uz1WXECR4XZu",
        "outputId": "e9d5326b-5ddf-4e7d-bb4d-27ec17cfe1ac"
      },
      "execution_count": 35,
      "outputs": [
        {
          "output_type": "stream",
          "name": "stdout",
          "text": [
            "f1_score for Logistic Regression is 0.0 i.e. 0%\n",
            "f1_score for Random Forest Classifier is 0.7125 i.e. 71%\n",
            "Accuracy score for Random Forest Classifier is 0.600609756097561 i.e. 60%\n"
          ]
        }
      ]
    },
    {
      "cell_type": "code",
      "execution_count": 30,
      "metadata": {
        "colab": {
          "base_uri": "https://localhost:8080/"
        },
        "id": "ZcpgKzPIykha",
        "outputId": "5e068dd4-c257-44bc-da57-dfd93c5be1c4"
      },
      "outputs": [
        {
          "output_type": "stream",
          "name": "stdout",
          "text": [
            "              precision    recall  f1-score   support\n",
            "\n",
            "           0       0.60      1.00      0.75       395\n",
            "           1       0.00      0.00      0.00       261\n",
            "\n",
            "    accuracy                           0.60       656\n",
            "   macro avg       0.30      0.50      0.38       656\n",
            "weighted avg       0.36      0.60      0.45       656\n",
            "\n"
          ]
        }
      ],
      "source": [
        "# Classification report for Logistic Rregression\n",
        "\n",
        "classify = classification_report(y_true = y_test, y_pred = y_pred)\n",
        "print(classify)"
      ]
    },
    {
      "cell_type": "markdown",
      "source": [
        "<p> precision for impure water is 0.63 <br>\n",
        "recall for impure water is  0.87 <br>\n",
        "f1-score is 0.73 </p>\n",
        "\n",
        "<p> precision for impure water is 0.52 <br>\n",
        "recall for impure water is 0.21 <br>\n",
        "f1-score is 0.30 </p>\n",
        "\n",
        "Accuracy is 61% in Logistic Regression."
      ],
      "metadata": {
        "id": "vW65h1Ua2cBW"
      }
    },
    {
      "cell_type": "code",
      "source": [
        "# Classification report for RandomForestClassifier\n",
        "\n",
        "classify = classification_report(y_true = y_test, y_pred = y_pred_rfc)\n",
        "print(classify)"
      ],
      "metadata": {
        "colab": {
          "base_uri": "https://localhost:8080/"
        },
        "id": "HUT6OQkZ2Q4w",
        "outputId": "e3642ee4-2785-43e3-9e6d-d6b4dba65946"
      },
      "execution_count": 31,
      "outputs": [
        {
          "output_type": "stream",
          "name": "stdout",
          "text": [
            "              precision    recall  f1-score   support\n",
            "\n",
            "           0       0.79      0.88      0.83       395\n",
            "           1       0.78      0.66      0.71       261\n",
            "\n",
            "    accuracy                           0.79       656\n",
            "   macro avg       0.79      0.77      0.77       656\n",
            "weighted avg       0.79      0.79      0.79       656\n",
            "\n"
          ]
        }
      ]
    },
    {
      "cell_type": "markdown",
      "source": [
        "<p> precision for impure water is 79 <br>\n",
        "recall for impure water is  0.88 <br>\n",
        "f1-score is 0.82  </p>\n",
        "\n",
        "<p> precision for impure water is 0.78 <br>\n",
        "recall for impure water is 0.66 <br>\n",
        "f1-score is 0.71 </p>\n",
        "\n",
        "Accuracy is 79% in Random Forest Classifier."
      ],
      "metadata": {
        "id": "lX4rHh4b3mFP"
      }
    },
    {
      "cell_type": "code",
      "source": [
        "# Classification report of SVC\n",
        "\n",
        "classify = classification_report(y_true = y_test, y_pred = y_pred_svc)\n",
        "print(classify)"
      ],
      "metadata": {
        "colab": {
          "base_uri": "https://localhost:8080/"
        },
        "id": "KPrfeFIJC00H",
        "outputId": "c805f8c3-6cb1-4fd1-b6f5-2a1d4ee7a786"
      },
      "execution_count": 32,
      "outputs": [
        {
          "output_type": "stream",
          "name": "stdout",
          "text": [
            "              precision    recall  f1-score   support\n",
            "\n",
            "           0       0.60      1.00      0.75       395\n",
            "           1       0.00      0.00      0.00       261\n",
            "\n",
            "    accuracy                           0.60       656\n",
            "   macro avg       0.30      0.50      0.38       656\n",
            "weighted avg       0.36      0.60      0.45       656\n",
            "\n"
          ]
        }
      ]
    },
    {
      "cell_type": "code",
      "source": [
        "Final = pd.DataFrame(\n",
        "    {\n",
        "        'Logistic Regression' : [f1_l, ac, round(f1_l*100), round(ac*100)],\n",
        "        'Random Forest Classifier' : [f1_rfc, ac_rfc, (round(f1_rfc*100)), round(ac_rfc*100)],\n",
        "        'Support Vector Classifier' : [f1_rfc, ac_rfc, (round(f1_rfc*100)), round(ac_rfc*100)]\n",
        "    },\n",
        "    index = ['F1_score', 'Accuracy Score', 'F1_Score in percent', 'Accuracy Score in percent']\n",
        ")"
      ],
      "metadata": {
        "id": "M01sqSYb3zIa"
      },
      "execution_count": 33,
      "outputs": []
    },
    {
      "cell_type": "code",
      "source": [
        "Final"
      ],
      "metadata": {
        "colab": {
          "base_uri": "https://localhost:8080/",
          "height": 253
        },
        "id": "8s1dNxS04--J",
        "outputId": "17ed8862-1493-422d-b5dd-6da05f8434b9"
      },
      "execution_count": 34,
      "outputs": [
        {
          "output_type": "execute_result",
          "data": {
            "text/plain": [
              "                           Logistic Regression  Random Forest Classifier  \\\n",
              "F1_score                               0.00000                  0.712500   \n",
              "Accuracy Score                         0.60061                  0.789634   \n",
              "F1_Score in percent                    0.00000                 71.000000   \n",
              "Accuracy Score in percent             60.00000                 79.000000   \n",
              "\n",
              "                           Support Vector Classifier  \n",
              "F1_score                                    0.712500  \n",
              "Accuracy Score                              0.789634  \n",
              "F1_Score in percent                        71.000000  \n",
              "Accuracy Score in percent                  79.000000  "
            ],
            "text/html": [
              "\n",
              "  <div id=\"df-c770c4e8-62f7-4ac8-8716-03b7d7c44518\">\n",
              "    <div class=\"colab-df-container\">\n",
              "      <div>\n",
              "<style scoped>\n",
              "    .dataframe tbody tr th:only-of-type {\n",
              "        vertical-align: middle;\n",
              "    }\n",
              "\n",
              "    .dataframe tbody tr th {\n",
              "        vertical-align: top;\n",
              "    }\n",
              "\n",
              "    .dataframe thead th {\n",
              "        text-align: right;\n",
              "    }\n",
              "</style>\n",
              "<table border=\"1\" class=\"dataframe\">\n",
              "  <thead>\n",
              "    <tr style=\"text-align: right;\">\n",
              "      <th></th>\n",
              "      <th>Logistic Regression</th>\n",
              "      <th>Random Forest Classifier</th>\n",
              "      <th>Support Vector Classifier</th>\n",
              "    </tr>\n",
              "  </thead>\n",
              "  <tbody>\n",
              "    <tr>\n",
              "      <th>F1_score</th>\n",
              "      <td>0.00000</td>\n",
              "      <td>0.712500</td>\n",
              "      <td>0.712500</td>\n",
              "    </tr>\n",
              "    <tr>\n",
              "      <th>Accuracy Score</th>\n",
              "      <td>0.60061</td>\n",
              "      <td>0.789634</td>\n",
              "      <td>0.789634</td>\n",
              "    </tr>\n",
              "    <tr>\n",
              "      <th>F1_Score in percent</th>\n",
              "      <td>0.00000</td>\n",
              "      <td>71.000000</td>\n",
              "      <td>71.000000</td>\n",
              "    </tr>\n",
              "    <tr>\n",
              "      <th>Accuracy Score in percent</th>\n",
              "      <td>60.00000</td>\n",
              "      <td>79.000000</td>\n",
              "      <td>79.000000</td>\n",
              "    </tr>\n",
              "  </tbody>\n",
              "</table>\n",
              "</div>\n",
              "      <button class=\"colab-df-convert\" onclick=\"convertToInteractive('df-c770c4e8-62f7-4ac8-8716-03b7d7c44518')\"\n",
              "              title=\"Convert this dataframe to an interactive table.\"\n",
              "              style=\"display:none;\">\n",
              "        \n",
              "  <svg xmlns=\"http://www.w3.org/2000/svg\" height=\"24px\"viewBox=\"0 0 24 24\"\n",
              "       width=\"24px\">\n",
              "    <path d=\"M0 0h24v24H0V0z\" fill=\"none\"/>\n",
              "    <path d=\"M18.56 5.44l.94 2.06.94-2.06 2.06-.94-2.06-.94-.94-2.06-.94 2.06-2.06.94zm-11 1L8.5 8.5l.94-2.06 2.06-.94-2.06-.94L8.5 2.5l-.94 2.06-2.06.94zm10 10l.94 2.06.94-2.06 2.06-.94-2.06-.94-.94-2.06-.94 2.06-2.06.94z\"/><path d=\"M17.41 7.96l-1.37-1.37c-.4-.4-.92-.59-1.43-.59-.52 0-1.04.2-1.43.59L10.3 9.45l-7.72 7.72c-.78.78-.78 2.05 0 2.83L4 21.41c.39.39.9.59 1.41.59.51 0 1.02-.2 1.41-.59l7.78-7.78 2.81-2.81c.8-.78.8-2.07 0-2.86zM5.41 20L4 18.59l7.72-7.72 1.47 1.35L5.41 20z\"/>\n",
              "  </svg>\n",
              "      </button>\n",
              "      \n",
              "  <style>\n",
              "    .colab-df-container {\n",
              "      display:flex;\n",
              "      flex-wrap:wrap;\n",
              "      gap: 12px;\n",
              "    }\n",
              "\n",
              "    .colab-df-convert {\n",
              "      background-color: #E8F0FE;\n",
              "      border: none;\n",
              "      border-radius: 50%;\n",
              "      cursor: pointer;\n",
              "      display: none;\n",
              "      fill: #1967D2;\n",
              "      height: 32px;\n",
              "      padding: 0 0 0 0;\n",
              "      width: 32px;\n",
              "    }\n",
              "\n",
              "    .colab-df-convert:hover {\n",
              "      background-color: #E2EBFA;\n",
              "      box-shadow: 0px 1px 2px rgba(60, 64, 67, 0.3), 0px 1px 3px 1px rgba(60, 64, 67, 0.15);\n",
              "      fill: #174EA6;\n",
              "    }\n",
              "\n",
              "    [theme=dark] .colab-df-convert {\n",
              "      background-color: #3B4455;\n",
              "      fill: #D2E3FC;\n",
              "    }\n",
              "\n",
              "    [theme=dark] .colab-df-convert:hover {\n",
              "      background-color: #434B5C;\n",
              "      box-shadow: 0px 1px 3px 1px rgba(0, 0, 0, 0.15);\n",
              "      filter: drop-shadow(0px 1px 2px rgba(0, 0, 0, 0.3));\n",
              "      fill: #FFFFFF;\n",
              "    }\n",
              "  </style>\n",
              "\n",
              "      <script>\n",
              "        const buttonEl =\n",
              "          document.querySelector('#df-c770c4e8-62f7-4ac8-8716-03b7d7c44518 button.colab-df-convert');\n",
              "        buttonEl.style.display =\n",
              "          google.colab.kernel.accessAllowed ? 'block' : 'none';\n",
              "\n",
              "        async function convertToInteractive(key) {\n",
              "          const element = document.querySelector('#df-c770c4e8-62f7-4ac8-8716-03b7d7c44518');\n",
              "          const dataTable =\n",
              "            await google.colab.kernel.invokeFunction('convertToInteractive',\n",
              "                                                     [key], {});\n",
              "          if (!dataTable) return;\n",
              "\n",
              "          const docLinkHtml = 'Like what you see? Visit the ' +\n",
              "            '<a target=\"_blank\" href=https://colab.research.google.com/notebooks/data_table.ipynb>data table notebook</a>'\n",
              "            + ' to learn more about interactive tables.';\n",
              "          element.innerHTML = '';\n",
              "          dataTable['output_type'] = 'display_data';\n",
              "          await google.colab.output.renderOutput(dataTable, element);\n",
              "          const docLink = document.createElement('div');\n",
              "          docLink.innerHTML = docLinkHtml;\n",
              "          element.appendChild(docLink);\n",
              "        }\n",
              "      </script>\n",
              "    </div>\n",
              "  </div>\n",
              "  "
            ]
          },
          "metadata": {},
          "execution_count": 34
        }
      ]
    },
    {
      "cell_type": "code",
      "source": [],
      "metadata": {
        "id": "be4Ulu7Sq9jV"
      },
      "execution_count": null,
      "outputs": []
    }
  ],
  "metadata": {
    "colab": {
      "provenance": []
    },
    "kernelspec": {
      "display_name": "Python 3",
      "name": "python3"
    },
    "language_info": {
      "name": "python"
    }
  },
  "nbformat": 4,
  "nbformat_minor": 0
}